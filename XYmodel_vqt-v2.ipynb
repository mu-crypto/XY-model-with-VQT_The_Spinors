{
 "cells": [
  {
   "cell_type": "code",
   "execution_count": 96,
   "metadata": {},
   "outputs": [],
   "source": [
    "# This cell is added by sphinx-gallery\n",
    "# It can be customized to whatever you like\n",
    "%matplotlib inline"
   ]
  },
  {
   "cell_type": "markdown",
   "metadata": {},
   "source": [
    "Variational Quantum Thermalizer\n",
    "===============================\n",
    "\n",
    "::: {.meta}\n",
    ":property=\\\"og:description\\\": Using the Variational Quantum Thermalizer\n",
    "to prepare the thermal state of a Heisenberg model Hamiltonian.\n",
    ":property=\\\"og:image\\\":\n",
    "<https://pennylane.ai/qml/_images/thumbnail_vqt.png>\n",
    ":::\n",
    "\n",
    "::: {.related}\n",
    "tutorial\\_vqe Variational quantum eigensolver\n",
    ":::\n",
    "\n",
    "*Author: Jack Ceroni --- Posted: 7 July 2020. Last updated: 28 January\n",
    "2021.*\n",
    "\n",
    "This demonstration discusses theory and experiments relating to a\n",
    "recently proposed quantum algorithm called the [Variational Quantum\n",
    "Thermalizer](https://arxiv.org/abs/1910.02071) (VQT): a generalization\n",
    "of the well-know\n",
    "`Variational Quantum Eigensolver </demos/tutorial_vqe>`{.interpreted-text\n",
    "role=\"doc\"} (VQE) to systems with non-zero temperatures.\n"
   ]
  },
  {
   "cell_type": "markdown",
   "metadata": {},
   "source": [
    "The Idea\n",
    "========\n"
   ]
  },
  {
   "cell_type": "markdown",
   "metadata": {},
   "source": [
    "The goal of the VQT is to prepare the [thermal\n",
    "state](https://en.wikipedia.org/wiki/KMS_state) of a given Hamiltonian\n",
    "$\\hat{H}$ at temperature $T$, which is defined as\n",
    "\n",
    "$$\\rho_\\text{thermal} \\ = \\ \\frac{e^{- \\hat{H} \\beta}}{\\text{Tr}(e^{- \\hat{H} \\beta})} \\ = \\ \\frac{e^{- \\hat{H} \\beta}}{Z_{\\beta}},$$\n",
    "\n",
    "where $\\beta \\ = \\ 1/T$. The thermal state is a [mixed\n",
    "state](https://en.wikipedia.org/wiki/Quantum_state#Mixed_states), which\n",
    "means that can be described by an ensemble of pure states. Since we are\n",
    "attempting to learn a mixed state, we must deviate from the standard\n",
    "variational method of passing a pure state through an ansatz circuit,\n",
    "and minimizing the energy expectation.\n",
    "\n",
    "The VQT begins with an initial [density\n",
    "matrix](https://en.wikipedia.org/wiki/Density_matrix), $\\rho_{\\theta}$,\n",
    "described by a probability distribution parametrized by some collection\n",
    "of parameters $\\theta$, and an ensemble of pure states,\n",
    "$\\{|\\psi_i\\rangle\\}$. Let $p_i(\\theta_i)$ be the probability\n",
    "corresponding to the $i$-th pure state. We sample from this probability\n",
    "distribution to get some pure state $|\\psi_k\\rangle$, which we pass\n",
    "through a parametrized circuit, $U(\\phi)$. From the results of this\n",
    "circuit, we then calculate\n",
    "$\\langle \\psi_k | U^{\\dagger}(\\phi) \\hat{H}\\, U(\\phi) |\\psi_k\\rangle$.\n",
    "Repeating this process multiple times and taking the average of these\n",
    "expectation values gives us the the expectation value of $\\hat{H}$ with\n",
    "respect to $U \\rho_{\\theta} U^{\\dagger}$.\n",
    "\n",
    "![Inputted parameters create an initial density matrix and a\n",
    "parametrized ansatz, which are used to calculate the expectation value\n",
    "of the Hamiltonian with respect to a new mixed\n",
    "state.](../demonstrations/vqt/ev.png){.align-center width=\"100.0%\"}\n",
    "\n",
    "Arguably, the most important part of a variational circuit is its cost\n",
    "function, which we attempt to minimize with a classical optimizer. In\n",
    "VQE, we generally try to minimize\n",
    "$\\langle \\psi(\\theta) | \\hat{H} | \\psi(\\theta) \\rangle$ which, upon\n",
    "minimization, gives us a parametrized circuit that prepares a good\n",
    "approximation to the ground state of $\\hat{H}$. In the VQT, the goal is\n",
    "to arrive at a parametrized probability distribution, and a parametrized\n",
    "ansatz, that generate a good approximation to the thermal state. This\n",
    "generally involves more than calculating the energy expectation value.\n",
    "Luckily, we know that the thermal state of $\\hat{H}$ minimizes the\n",
    "following free-energy cost function\n",
    "\n",
    "$$\\mathcal{L}(\\theta, \\ \\phi) \\ = \\ \\beta \\ \\text{Tr}( \\hat{H} \\ \\hat{U}(\\phi) \\rho_{\\theta} \\hat{U}(\\phi)^{\\dagger} ) \\ - \\ S_\\theta,$$\n",
    "\n",
    "where $S_{\\theta}$ is the [von Neumann\n",
    "entropy](https://en.wikipedia.org/wiki/Von_Neumann_entropy) of\n",
    "$U \\rho_{\\theta} U^{\\dagger}$, which is the same as the von Neumann\n",
    "entropy of $\\rho_{\\theta}$ due to invariance of entropy under unitary\n",
    "transformations. This cost function is minimized when\n",
    "$\\hat{U}(\\phi) \\rho_{\\theta} \\hat{U}(\\phi)^{\\dagger} \\ = \\ \\rho_{\\text{thermal}}$,\n",
    "so similarly to VQE, we minimize it with a classical optimizer to obtain\n",
    "the target parameters, and thus the target state.\n",
    "\n",
    "![A high-level representation of how the VQT\n",
    "works.](../demonstrations/vqt/vqt.png){.align-center width=\"80.0%\"}\n",
    "\n",
    "All together, the outlined processes give us a general protocol to\n",
    "generate thermal states.\n"
   ]
  },
  {
   "cell_type": "markdown",
   "metadata": {},
   "source": [
    "Simulating the VQT for a 4-Qubit Heisenberg Model\n",
    "=================================================\n"
   ]
  },
  {
   "cell_type": "markdown",
   "metadata": {},
   "source": [
    "In this demonstration, we simulate the 4-qubit Heisenberg model. We can\n",
    "begin by importing the necessary dependencies.\n"
   ]
  },
  {
   "cell_type": "code",
   "execution_count": 97,
   "metadata": {},
   "outputs": [],
   "source": [
    "import pennylane as qml\n",
    "from matplotlib import pyplot as plt\n",
    "import numpy as np\n",
    "from numpy import array\n",
    "import scipy\n",
    "from scipy.optimize import minimize\n",
    "import networkx as nx\n",
    "import seaborn\n",
    "import itertools\n",
    "from numpy import savetxt\n",
    "\n",
    "np.random.seed(42)\n",
    "\n",
    "nr_qubits = 4"
   ]
  },
  {
   "cell_type": "markdown",
   "metadata": {},
   "source": [
    "The Heisenberg Hamiltonian is defined as\n",
    "\n",
    "$$\\hat{H} \\ = \\ \\displaystyle\\sum_{(i, j) \\in E} X_i X_j \\ + \\ Z_i Z_j \\ + \\ Y_i Y_j,$$\n",
    "\n",
    "where $X_i$, $Y_i$ and $Z_i$ are the Pauli gates acting on the $i$-th\n",
    "qubit. In addition, $E$ is the set of edges in the graph\n",
    "$G \\ = \\ (V, \\ E)$ describing the interactions between the qubits. In\n",
    "this demonstration, we define the interaction graph to be the cycle\n",
    "graph:\n"
   ]
  },
  {
   "cell_type": "code",
   "execution_count": 98,
   "metadata": {},
   "outputs": [
    {
     "data": {
      "image/png": "[encoded data removed]",
      "text/plain": [
       "<Figure size 640x480 with 1 Axes>"
      ]
     },
     "metadata": {},
     "output_type": "display_data"
    }
   ],
   "source": [
    "interaction_graph = nx.cycle_graph(nr_qubits)\n",
    "# interaction_graph = nx.cycle_graph(4)\n",
    "nx.draw(interaction_graph)"
   ]
  },
  {
   "cell_type": "markdown",
   "metadata": {},
   "source": [
    "With this, we can calculate the matrix representation of the Heisenberg\n",
    "Hamiltonian in the computational basis:\n"
   ]
  },
  {
   "cell_type": "code",
   "execution_count": 154,
   "metadata": {},
   "outputs": [
    {
     "data": {
      "text/plain": [
       "EdgeView([(0, 1), (0, 3), (1, 2), (2, 3)])"
      ]
     },
     "execution_count": 154,
     "metadata": {},
     "output_type": "execute_result"
    }
   ],
   "source": [
    "interaction_graph.edges\n"
   ]
  },
  {
   "cell_type": "code",
   "execution_count": 133,
   "metadata": {},
   "outputs": [
    {
     "data": {
      "text/plain": [
       "array([[0, 1],\n",
       "       [1, 0]])"
      ]
     },
     "execution_count": 133,
     "metadata": {},
     "output_type": "execute_result"
    }
   ],
   "source": [
    "1 in (3,2)\n",
    "qml.matrix(qml.PauliX)(0)"
   ]
  },
  {
   "cell_type": "code",
   "execution_count": 166,
   "metadata": {},
   "outputs": [
    {
     "data": {
      "image/png": "[encoded data removed]",
      "text/plain": [
       "<Figure size 640x480 with 2 Axes>"
      ]
     },
     "metadata": {},
     "output_type": "display_data"
    }
   ],
   "source": [
    "#수정사항! XY model로 변경하기 위해 Z 항들을 제거했습니다.\n",
    "\n",
    "def create_hamiltonian_matrix(n, graph):\n",
    "    matrix = np.zeros((2 ** n, 2 ** n))\n",
    "    for i in graph.edges:\n",
    "#         x = y = z = 1\n",
    "        x = y = 1\n",
    "        for j in range(0, n):\n",
    "            if j == i[0] or j == i[1]:\n",
    "                x = np.kron(x, qml.matrix(qml.PauliX)(0))\n",
    "                y = np.kron(y, qml.matrix(qml.PauliY)(0))\n",
    "#                 z = np.kron(z, qml.matrix(qml.PauliZ)(0))\n",
    "            else:\n",
    "                x = np.kron(x, np.identity(2))\n",
    "                y = np.kron(y, np.identity(2))\n",
    "#                 z = np.kron(z, np.identity(2))\n",
    "        matrix = np.add(matrix, np.add(x, y))\n",
    "#         matrix = np.add(matrix, np.add(x, np.add(y, z)))\n",
    "    return matrix\n",
    "\n",
    "ham_matrix = create_hamiltonian_matrix(nr_qubits, interaction_graph)\n",
    "\n",
    "# Prints a visual representation of the Hamiltonian matrix\n",
    "seaborn.heatmap(ham_matrix.real)\n",
    "plt.show()"
   ]
  },
  {
   "cell_type": "code",
   "execution_count": 169,
   "metadata": {},
   "outputs": [
    {
     "data": {
      "image/png": "[encoded data removed]",
      "text/plain": [
       "<Figure size 640x480 with 2 Axes>"
      ]
     },
     "metadata": {},
     "output_type": "display_data"
    }
   ],
   "source": [
    "from qiskit.quantum_info import Pauli\n",
    "Pauli_words = ['XXII', 'YYII', 'IXXI', 'IYYI', 'IIXX', 'IIYY', 'XIIX', 'YIIY']\n",
    "# Pauli_words = ['XXII', 'YYII', 'IXXI', 'IYYI', 'IIXX', 'IIYY', 'XIIX', 'YIIY']+['ZIII', 'IZII', 'IIZI', 'IIIZ']\n",
    "# Magnetization을 포함할 때 사용하는 코드\n",
    "\n",
    "matrix = np.zeros((2 ** nr_qubits, 2 ** nr_qubits),dtype=complex)\n",
    "for word in Pauli_words:\n",
    "    matrix += Pauli.to_matrix(Pauli(word))\n",
    "seaborn.heatmap(matrix.real)\n",
    "plt.show()"
   ]
  },
  {
   "cell_type": "markdown",
   "metadata": {},
   "source": [
    "The first step of the VQT is to create the initial density matrix,\n",
    "$\\rho_\\theta$. In this demonstration, we let $\\rho_\\theta$ be\n",
    "*factorized*, meaning that it can be written as an uncorrelated tensor\n",
    "product of $4$ one-qubit density matrices that are diagonal in the\n",
    "computational basis. The motivation is that in this factorized model,\n",
    "the number of $\\theta_i$ parameters needed to describe $\\rho_\\theta$\n",
    "scales linearly rather than exponentially with the number of qubits. For\n",
    "each one-qubit system described by $\\rho_\\theta^i$, we have\n",
    "\n",
    "$$\\rho_{\\theta}^{i} \\ = \\ p_i(\\theta_i) |0\\rangle \\langle 0| \\ + \\ (1 \\ - \\ p_i(\\theta_i))|1\\rangle \\langle1|.$$\n",
    "\n",
    "From here, all we have to do is define $p_i(\\theta_i)$, which we choose\n",
    "to be the sigmoid\n",
    "\n",
    "$$p_{i}(\\theta_{i}) \\ = \\ \\frac{e^{\\theta_i}}{e^{\\theta_i} \\ + \\ 1}.$$\n"
   ]
  },
  {
   "cell_type": "code",
   "execution_count": 100,
   "metadata": {},
   "outputs": [],
   "source": [
    "def sigmoid(x):\n",
    "    return np.exp(x) / (np.exp(x) + 1)"
   ]
  },
  {
   "cell_type": "markdown",
   "metadata": {},
   "source": [
    "This is a natural choice for probability function, as it has a range of\n",
    "$[0, \\ 1]$, meaning that we don't need to restrict the domain of\n",
    "$\\theta_i$ to some subset of the real numbers. With the probability\n",
    "function defined, we can write a method that gives us the diagonal\n",
    "elements of each one-qubit density matrix, for some parameters $\\theta$:\n"
   ]
  },
  {
   "cell_type": "code",
   "execution_count": 101,
   "metadata": {},
   "outputs": [],
   "source": [
    "def prob_dist(params):\n",
    "    return np.vstack([sigmoid(params), 1 - sigmoid(params)]).T"
   ]
  },
  {
   "cell_type": "markdown",
   "metadata": {},
   "source": [
    "Creating the Ansatz Circuit\n",
    "===========================\n"
   ]
  },
  {
   "cell_type": "markdown",
   "metadata": {},
   "source": [
    "With this done, we can move on to defining the ansatz circuit,\n",
    "$U(\\phi)$, composed of rotational and coupling layers. The rotation\n",
    "layer is simply `RX`, `RY`, and `RZ` gates applied to each qubit. We\n",
    "make use of the `AngleEmbedding` function, which allows us to easily\n",
    "pass parameters into rotational layers.\n"
   ]
  },
  {
   "cell_type": "code",
   "execution_count": 102,
   "metadata": {},
   "outputs": [],
   "source": [
    "def single_rotation(phi_params, qubits):\n",
    "\n",
    "    rotations = [\"Z\", \"Y\", \"X\"]\n",
    "    for i in range(0, len(rotations)):\n",
    "        qml.AngleEmbedding(phi_params[i], wires=qubits, rotation=rotations[i])"
   ]
  },
  {
   "cell_type": "markdown",
   "metadata": {},
   "source": [
    "To construct the general ansatz, we combine the method we have just\n",
    "defined with a collection of parametrized coupling gates placed between\n",
    "qubits that share an edge in the interaction graph. In addition, we\n",
    "define the depth of the ansatz, and the device on which the simulations\n",
    "are run:\n"
   ]
  },
  {
   "cell_type": "code",
   "execution_count": 103,
   "metadata": {},
   "outputs": [],
   "source": [
    "depth = 4\n",
    "dev = qml.device(\"default.qubit\", wires=nr_qubits)\n",
    "\n",
    "\n",
    "def quantum_circuit(rotation_params, coupling_params, sample=None):\n",
    "\n",
    "    # Prepares the initial basis state corresponding to the sample\n",
    "    qml.BasisStatePreparation(sample, wires=range(nr_qubits))\n",
    "\n",
    "    # Prepares the variational ansatz for the circuit\n",
    "    for i in range(0, depth):\n",
    "        single_rotation(rotation_params[i], range(nr_qubits))\n",
    "        qml.broadcast(\n",
    "            unitary=qml.CRX,\n",
    "            pattern=\"ring\",\n",
    "            wires=range(nr_qubits),\n",
    "            parameters=coupling_params[i]\n",
    "        )\n",
    "\n",
    "    # Calculates the expectation value of the Hamiltonian with respect to the prepared states\n",
    "    return qml.expval(qml.Hermitian(ham_matrix, wires=range(nr_qubits)))\n",
    "\n",
    "\n",
    "# Constructs the QNode\n",
    "qnode = qml.QNode(quantum_circuit, dev)"
   ]
  },
  {
   "cell_type": "markdown",
   "metadata": {},
   "source": [
    "We can get an idea of what this circuit looks like by printing out a\n",
    "test circuit:\n"
   ]
  },
  {
   "cell_type": "code",
   "execution_count": 104,
   "metadata": {},
   "outputs": [
    {
     "ename": "ValueError",
     "evalue": "Basis states must be of length 4; state 0 has length 8.",
     "output_type": "error",
     "traceback": [
      "\u001b[1;31m---------------------------------------------------------------------------\u001b[0m",
      "\u001b[1;31mValueError\u001b[0m                                Traceback (most recent call last)",
      "Cell \u001b[1;32mIn[104], line 4\u001b[0m\n\u001b[0;32m      2\u001b[0m \u001b[38;5;66;03m# rotation_params = [[[1, 1, 1, 1], [1, 1, 1, 1], [1, 1, 1, 1]] for i in range(0, depth)]\u001b[39;00m\n\u001b[0;32m      3\u001b[0m coupling_params \u001b[38;5;241m=\u001b[39m [[\u001b[38;5;241m1\u001b[39m, \u001b[38;5;241m1\u001b[39m, \u001b[38;5;241m1\u001b[39m, \u001b[38;5;241m1\u001b[39m, \u001b[38;5;241m1\u001b[39m, \u001b[38;5;241m1\u001b[39m, \u001b[38;5;241m1\u001b[39m, \u001b[38;5;241m1\u001b[39m] \u001b[38;5;28;01mfor\u001b[39;00m i \u001b[38;5;129;01min\u001b[39;00m \u001b[38;5;28mrange\u001b[39m(\u001b[38;5;241m0\u001b[39m, depth)]\n\u001b[1;32m----> 4\u001b[0m \u001b[38;5;28mprint\u001b[39m(\u001b[43mqml\u001b[49m\u001b[38;5;241;43m.\u001b[39;49m\u001b[43mdraw\u001b[49m\u001b[43m(\u001b[49m\u001b[43mqnode\u001b[49m\u001b[43m,\u001b[49m\u001b[43m \u001b[49m\u001b[43mexpansion_strategy\u001b[49m\u001b[38;5;241;43m=\u001b[39;49m\u001b[38;5;124;43m\"\u001b[39;49m\u001b[38;5;124;43mdevice\u001b[39;49m\u001b[38;5;124;43m\"\u001b[39;49m\u001b[43m,\u001b[49m\u001b[43m \u001b[49m\u001b[43mshow_matrices\u001b[49m\u001b[38;5;241;43m=\u001b[39;49m\u001b[38;5;28;43;01mTrue\u001b[39;49;00m\u001b[43m)\u001b[49m\u001b[43m(\u001b[49m\u001b[43mrotation_params\u001b[49m\u001b[43m,\u001b[49m\u001b[43m \u001b[49m\u001b[43mcoupling_params\u001b[49m\u001b[43m,\u001b[49m\u001b[43m \u001b[49m\u001b[43msample\u001b[49m\u001b[38;5;241;43m=\u001b[39;49m\u001b[43m[\u001b[49m\u001b[38;5;241;43m1\u001b[39;49m\u001b[43m,\u001b[49m\u001b[43m \u001b[49m\u001b[38;5;241;43m0\u001b[39;49m\u001b[43m,\u001b[49m\u001b[43m \u001b[49m\u001b[38;5;241;43m1\u001b[39;49m\u001b[43m,\u001b[49m\u001b[43m \u001b[49m\u001b[38;5;241;43m0\u001b[39;49m\u001b[43m,\u001b[49m\u001b[43m \u001b[49m\u001b[38;5;241;43m1\u001b[39;49m\u001b[43m,\u001b[49m\u001b[43m \u001b[49m\u001b[38;5;241;43m0\u001b[39;49m\u001b[43m,\u001b[49m\u001b[43m \u001b[49m\u001b[38;5;241;43m1\u001b[39;49m\u001b[43m,\u001b[49m\u001b[43m \u001b[49m\u001b[38;5;241;43m0\u001b[39;49m\u001b[43m]\u001b[49m\u001b[43m)\u001b[49m)\n",
      "File \u001b[1;32m~\\anaconda3\\envs\\qiskit-env\\lib\\site-packages\\pennylane\\drawer\\draw.py:190\u001b[0m, in \u001b[0;36mdraw.<locals>.wrapper\u001b[1;34m(*args, **kwargs)\u001b[0m\n\u001b[0;32m    188\u001b[0m \u001b[38;5;28;01mtry\u001b[39;00m:\n\u001b[0;32m    189\u001b[0m     qnode\u001b[38;5;241m.\u001b[39mexpansion_strategy \u001b[38;5;241m=\u001b[39m expansion_strategy \u001b[38;5;129;01mor\u001b[39;00m original_expansion_strategy\n\u001b[1;32m--> 190\u001b[0m     tapes \u001b[38;5;241m=\u001b[39m \u001b[43mqnode\u001b[49m\u001b[38;5;241;43m.\u001b[39;49m\u001b[43mconstruct\u001b[49m\u001b[43m(\u001b[49m\u001b[43margs\u001b[49m\u001b[43m,\u001b[49m\u001b[43m \u001b[49m\u001b[43mkwargs\u001b[49m\u001b[43m)\u001b[49m\n\u001b[0;32m    191\u001b[0m \u001b[38;5;28;01mfinally\u001b[39;00m:\n\u001b[0;32m    192\u001b[0m     qnode\u001b[38;5;241m.\u001b[39mexpansion_strategy \u001b[38;5;241m=\u001b[39m original_expansion_strategy\n",
      "File \u001b[1;32m~\\anaconda3\\envs\\qiskit-env\\lib\\site-packages\\pennylane\\qnode.py:711\u001b[0m, in \u001b[0;36mQNode.construct\u001b[1;34m(self, args, kwargs)\u001b[0m\n\u001b[0;32m    708\u001b[0m \u001b[38;5;28;01mdef\u001b[39;00m \u001b[38;5;21mconstruct\u001b[39m(\u001b[38;5;28mself\u001b[39m, args, kwargs):\n\u001b[0;32m    709\u001b[0m \u001b[38;5;250m    \u001b[39m\u001b[38;5;124;03m\"\"\"Call the quantum function with a tape context, ensuring the operations get queued.\"\"\"\u001b[39;00m\n\u001b[1;32m--> 711\u001b[0m     \u001b[38;5;28mself\u001b[39m\u001b[38;5;241m.\u001b[39m_tape \u001b[38;5;241m=\u001b[39m make_qscript(\u001b[38;5;28mself\u001b[39m\u001b[38;5;241m.\u001b[39mfunc)(\u001b[38;5;241m*\u001b[39margs, \u001b[38;5;241m*\u001b[39m\u001b[38;5;241m*\u001b[39mkwargs)\n\u001b[0;32m    712\u001b[0m     \u001b[38;5;28mself\u001b[39m\u001b[38;5;241m.\u001b[39m_tape\u001b[38;5;241m.\u001b[39m_queue_category \u001b[38;5;241m=\u001b[39m \u001b[38;5;124m\"\u001b[39m\u001b[38;5;124m_ops\u001b[39m\u001b[38;5;124m\"\u001b[39m\n\u001b[0;32m    713\u001b[0m     \u001b[38;5;28mself\u001b[39m\u001b[38;5;241m.\u001b[39m_qfunc_output \u001b[38;5;241m=\u001b[39m \u001b[38;5;28mself\u001b[39m\u001b[38;5;241m.\u001b[39mtape\u001b[38;5;241m.\u001b[39m_qfunc_output\n",
      "File \u001b[1;32m~\\anaconda3\\envs\\qiskit-env\\lib\\site-packages\\pennylane\\tape\\qscript.py:1346\u001b[0m, in \u001b[0;36mmake_qscript.<locals>.wrapper\u001b[1;34m(*args, **kwargs)\u001b[0m\n\u001b[0;32m   1344\u001b[0m \u001b[38;5;28;01mdef\u001b[39;00m \u001b[38;5;21mwrapper\u001b[39m(\u001b[38;5;241m*\u001b[39margs, \u001b[38;5;241m*\u001b[39m\u001b[38;5;241m*\u001b[39mkwargs):\n\u001b[0;32m   1345\u001b[0m     \u001b[38;5;28;01mwith\u001b[39;00m AnnotatedQueue() \u001b[38;5;28;01mas\u001b[39;00m q:\n\u001b[1;32m-> 1346\u001b[0m         result \u001b[38;5;241m=\u001b[39m fn(\u001b[38;5;241m*\u001b[39margs, \u001b[38;5;241m*\u001b[39m\u001b[38;5;241m*\u001b[39mkwargs)\n\u001b[0;32m   1348\u001b[0m     qscript \u001b[38;5;241m=\u001b[39m QuantumScript\u001b[38;5;241m.\u001b[39mfrom_queue(q)\n\u001b[0;32m   1349\u001b[0m     qscript\u001b[38;5;241m.\u001b[39m_qfunc_output \u001b[38;5;241m=\u001b[39m result\n",
      "Cell \u001b[1;32mIn[103], line 8\u001b[0m, in \u001b[0;36mquantum_circuit\u001b[1;34m(rotation_params, coupling_params, sample)\u001b[0m\n\u001b[0;32m      5\u001b[0m \u001b[38;5;28;01mdef\u001b[39;00m \u001b[38;5;21mquantum_circuit\u001b[39m(rotation_params, coupling_params, sample\u001b[38;5;241m=\u001b[39m\u001b[38;5;28;01mNone\u001b[39;00m):\n\u001b[0;32m      6\u001b[0m \n\u001b[0;32m      7\u001b[0m     \u001b[38;5;66;03m# Prepares the initial basis state corresponding to the sample\u001b[39;00m\n\u001b[1;32m----> 8\u001b[0m     \u001b[43mqml\u001b[49m\u001b[38;5;241;43m.\u001b[39;49m\u001b[43mBasisStatePreparation\u001b[49m\u001b[43m(\u001b[49m\u001b[43msample\u001b[49m\u001b[43m,\u001b[49m\u001b[43m \u001b[49m\u001b[43mwires\u001b[49m\u001b[38;5;241;43m=\u001b[39;49m\u001b[38;5;28;43mrange\u001b[39;49m\u001b[43m(\u001b[49m\u001b[43mnr_qubits\u001b[49m\u001b[43m)\u001b[49m\u001b[43m)\u001b[49m\n\u001b[0;32m     10\u001b[0m     \u001b[38;5;66;03m# Prepares the variational ansatz for the circuit\u001b[39;00m\n\u001b[0;32m     11\u001b[0m     \u001b[38;5;28;01mfor\u001b[39;00m i \u001b[38;5;129;01min\u001b[39;00m \u001b[38;5;28mrange\u001b[39m(\u001b[38;5;241m0\u001b[39m, depth):\n",
      "File \u001b[1;32m~\\anaconda3\\envs\\qiskit-env\\lib\\site-packages\\pennylane\\templates\\state_preparations\\basis.py:73\u001b[0m, in \u001b[0;36mBasisStatePreparation.__init__\u001b[1;34m(self, basis_state, wires, do_queue, id)\u001b[0m\n\u001b[0;32m     71\u001b[0m n_bits \u001b[38;5;241m=\u001b[39m shape[\u001b[38;5;241m0\u001b[39m]\n\u001b[0;32m     72\u001b[0m \u001b[38;5;28;01mif\u001b[39;00m n_bits \u001b[38;5;241m!=\u001b[39m \u001b[38;5;28mlen\u001b[39m(wires):\n\u001b[1;32m---> 73\u001b[0m     \u001b[38;5;28;01mraise\u001b[39;00m \u001b[38;5;167;01mValueError\u001b[39;00m(\n\u001b[0;32m     74\u001b[0m         \u001b[38;5;124mf\u001b[39m\u001b[38;5;124m\"\u001b[39m\u001b[38;5;124mBasis states must be of length \u001b[39m\u001b[38;5;132;01m{\u001b[39;00m\u001b[38;5;28mlen\u001b[39m(wires)\u001b[38;5;132;01m}\u001b[39;00m\u001b[38;5;124m; state \u001b[39m\u001b[38;5;132;01m{\u001b[39;00mi\u001b[38;5;132;01m}\u001b[39;00m\u001b[38;5;124m has length \u001b[39m\u001b[38;5;132;01m{\u001b[39;00mn_bits\u001b[38;5;132;01m}\u001b[39;00m\u001b[38;5;124m.\u001b[39m\u001b[38;5;124m\"\u001b[39m\n\u001b[0;32m     75\u001b[0m     )\n\u001b[0;32m     77\u001b[0m \u001b[38;5;28;01mif\u001b[39;00m \u001b[38;5;129;01mnot\u001b[39;00m qml\u001b[38;5;241m.\u001b[39mmath\u001b[38;5;241m.\u001b[39mis_abstract(state):\n\u001b[0;32m     78\u001b[0m     \u001b[38;5;28;01mif\u001b[39;00m \u001b[38;5;28many\u001b[39m(bit \u001b[38;5;129;01mnot\u001b[39;00m \u001b[38;5;129;01min\u001b[39;00m [\u001b[38;5;241m0\u001b[39m, \u001b[38;5;241m1\u001b[39m] \u001b[38;5;28;01mfor\u001b[39;00m bit \u001b[38;5;129;01min\u001b[39;00m state):\n",
      "\u001b[1;31mValueError\u001b[0m: Basis states must be of length 4; state 0 has length 8."
     ]
    }
   ],
   "source": [
    "rotation_params = [[[1, 1, 1, 1, 1, 1, 1, 1], [1, 1, 1, 1, 1, 1, 1, 1], [1, 1, 1, 1, 1, 1, 1, 1]] for i in range(0, depth)]\n",
    "# rotation_params = [[[1, 1, 1, 1], [1, 1, 1, 1], [1, 1, 1, 1]] for i in range(0, depth)]\n",
    "coupling_params = [[1, 1, 1, 1, 1, 1, 1, 1] for i in range(0, depth)]\n",
    "print(qml.draw(qnode, expansion_strategy=\"device\", show_matrices=True)(rotation_params, coupling_params, sample=[1, 0, 1, 0, 1, 0, 1, 0]))"
   ]
  },
  {
   "cell_type": "markdown",
   "metadata": {},
   "source": [
    "Recall that the final cost function depends not only on the expectation\n",
    "value of the Hamiltonian, but also the von Neumann entropy of the state,\n",
    "which is determined by the collection of $p_i(\\theta_i)$s. Since the\n",
    "entropy of a collection of multiple uncorrelated subsystems is the same\n",
    "as the sum of the individual values of entropy for each subsystem, we\n",
    "can sum the entropy values of each one-qubit system in the factorized\n",
    "space to get the total:\n"
   ]
  },
  {
   "cell_type": "code",
   "execution_count": 105,
   "metadata": {},
   "outputs": [],
   "source": [
    "def calculate_entropy(distribution):\n",
    "\n",
    "    total_entropy = 0\n",
    "    for d in distribution:\n",
    "        total_entropy += -1 * d[0] * np.log(d[0]) + -1 * d[1] * np.log(d[1])\n",
    "\n",
    "    # Returns an array of the entropy values of the different initial density matrices\n",
    "\n",
    "    return total_entropy"
   ]
  },
  {
   "cell_type": "markdown",
   "metadata": {},
   "source": [
    "The Cost Function\n",
    "=================\n"
   ]
  },
  {
   "cell_type": "markdown",
   "metadata": {},
   "source": [
    "Finally, we combine the ansatz and the entropy function to get the cost\n",
    "function. In this demonstration, we deviate slightly from how VQT would\n",
    "be performed in practice. Instead of sampling from the probability\n",
    "distribution describing the initial mixed state, we use the ansatz to\n",
    "calculate\n",
    "$\\langle x_i | U^{\\dagger}(\\phi) \\hat{H} \\,U(\\phi) |x_i\\rangle$ for each\n",
    "basis state $|x_i\\rangle$. We then multiply each of these expectation\n",
    "values by their corresponding $(\\rho_\\theta)_{ii}$, which is exactly the\n",
    "probability of sampling $|x_i\\rangle$ from the distribution. Summing\n",
    "each of these terms together gives us the expected value of the\n",
    "Hamiltonian with respect to the transformed density matrix.\n",
    "\n",
    "In the case of this small, simple model, exact calculations such as this\n",
    "reduce the number of circuit executions, and thus the total execution\n",
    "time.\n",
    "\n",
    "You may have noticed previously that the \"structure\" of the parameters\n",
    "list passed into the ansatz is quite complicated. We write a general\n",
    "function that takes a one-dimensional list, and converts it into the\n",
    "nested list structure that can be inputed into the ansatz:\n"
   ]
  },
  {
   "cell_type": "code",
   "execution_count": 106,
   "metadata": {},
   "outputs": [],
   "source": [
    "def convert_list(params):\n",
    "\n",
    "    # Separates the list of parameters\n",
    "    dist_params = params[0:nr_qubits]\n",
    "    ansatz_params_1 = params[nr_qubits : ((depth + 1) * nr_qubits)]\n",
    "    ansatz_params_2 = params[((depth + 1) * nr_qubits) :]\n",
    "\n",
    "    coupling = np.split(ansatz_params_1, depth)\n",
    "\n",
    "    # Partitions the parameters into multiple lists\n",
    "    split = np.split(ansatz_params_2, depth)\n",
    "    rotation = []\n",
    "    for s in split:\n",
    "        rotation.append(np.split(s, 3))\n",
    "\n",
    "    ansatz_params = [rotation, coupling]\n",
    "\n",
    "    return [dist_params, ansatz_params]"
   ]
  },
  {
   "cell_type": "markdown",
   "metadata": {},
   "source": [
    "We then pass this function, along with the ansatz and the entropy\n",
    "function into the final cost function:\n"
   ]
  },
  {
   "cell_type": "code",
   "execution_count": 107,
   "metadata": {},
   "outputs": [],
   "source": [
    "#수정사항! exact_cost 함수에 beta를 변수로 추가하였습니다. 이는 후에 beta로 for loop를 만들기 위함입니다.\n",
    "\n",
    "#params, beta, nr_qubits, qnode, calculate_entropy\n",
    "def exact_cost(params,beta):\n",
    "\n",
    "    global iterations\n",
    "\n",
    "    # Transforms the parameter list\n",
    "    parameters = convert_list(params)\n",
    "    dist_params = parameters[0]\n",
    "    ansatz_params = parameters[1]\n",
    "\n",
    "    # Creates the probability distribution\n",
    "    distribution = prob_dist(dist_params)\n",
    "\n",
    "    # Generates a list of all computational basis states of our qubit system\n",
    "    combos = itertools.product([0, 1], repeat=nr_qubits)\n",
    "    s = [list(c) for c in combos]\n",
    "\n",
    "    # Passes each basis state through the variational circuit and multiplies\n",
    "    # the calculated energy EV with the associated probability from the distribution\n",
    "    cost = 0\n",
    "    for i in s:\n",
    "        result = qnode(ansatz_params[0], ansatz_params[1], sample=i)\n",
    "        for j in range(0, len(i)):\n",
    "            result = result * distribution[j][i[j]]\n",
    "        cost += result\n",
    "\n",
    "    # Calculates the entropy and the final cost function\n",
    "    entropy = calculate_entropy(distribution)\n",
    "    final_cost = beta * cost - entropy\n",
    "\n",
    "    return final_cost"
   ]
  },
  {
   "cell_type": "markdown",
   "metadata": {},
   "source": [
    "We then create the function that is passed into the optimizer:\n"
   ]
  },
  {
   "cell_type": "code",
   "execution_count": 108,
   "metadata": {},
   "outputs": [],
   "source": [
    "#수정사항! cost_execution 함수에 beta를 변수로 추가했습니다. 이전과 같은 이유로 추가하게 되었습니다.\n",
    "#수정사항! cost_execution 함수 속에 cost 값을 cost_list에 append하는 부분을 추가하였습니다. 이는 cost 값들을 하나의 list에 모아서 나중에 한번에 저장하기 위함입니다.\n",
    "\n",
    "def cost_execution(params,beta):\n",
    "\n",
    "    global iterations\n",
    "\n",
    "    cost = exact_cost(params,beta)\n",
    "    \n",
    "    cost_list.append(cost)\n",
    "    if iterations % 10 == 0:\n",
    "        print(\"Cost at Step {}: {}\".format(iterations, cost))\n",
    "\n",
    "    iterations += 1\n",
    "    return cost"
   ]
  },
  {
   "cell_type": "markdown",
   "metadata": {},
   "source": [
    "The last step is to define the optimizer, and execute the optimization\n",
    "method. We use the \\\"Constrained Optimization by Linear Approximation\\\"\n",
    "([COBYLA](https://en.wikipedia.org/wiki/COBYLA)) optimization method,\n",
    "which is a gradient-free optimizer. We observe that for this algorithm,\n",
    "COBYLA has a lower runtime than its gradient-based counterparts, so we\n",
    "utilize it in this demonstration:\n"
   ]
  },
  {
   "cell_type": "code",
   "execution_count": null,
   "metadata": {},
   "outputs": [],
   "source": [
    "T = np.linspace(0.1,2,20)\n",
    "beta = np.round(1/T,2)\n",
    "beta"
   ]
  },
  {
   "cell_type": "code",
   "execution_count": null,
   "metadata": {
    "scrolled": true
   },
   "outputs": [],
   "source": [
    "#수정사항! beta_list 속에 우리가 돌릴 beta 값들을 넣어서 한번에 여러 beta값들에 대해 계산할 수 있게 하였습니다.\n",
    "#수정사항! 각각 beta에 대한 결과는 for loop 중간중간에 저장됩니다 (savetxt 함수). 이 결과는 ipynb 파일가 든 폴더 속에 저장이 된다.\n",
    "#저장되는 파일: beta_is_0.1.csv  이 파일은 최적화되는 각 iteration마다 cost function (즉 free energy L)의 값이 들어있다. 이들이 수렴하는 양상을 보여야 training 이 끝났다고 생각할 수 있는 것 같다.\n",
    "#저장되는 파일: beta_is_0.1_params.csv  이 파일은 최적화가 끝난 이후, 최적화된 phi와 theta 값을 내보낸다. phi와 theta 성분의 합이 68 개 있기에 길이가 68이다.\n",
    "#주의할 사항! savetxt 함수가 자동으로 파일을 덮어쓰기 하기 때문에, 이미 저장된 이름으로 다시 코드를 돌리게 되면, 이전에 가지고 있던 데이터를 덮어써서 기존 데이터를 잃게 된다.\n",
    "\n",
    "# T_list = list(t for t in np.arange(0.1,2.1,0.1))\n",
    "# beta_list = [round(1/t,2) for t in T_list]\n",
    "# T = np.linspace(0.1,2,20)\n",
    "# beta = np.round(1/T,2)\n",
    "beta_list = np.flip(np.array([3.33, 2.5, 1.67,  1.43,  1.25,  1.11, 0.91,  0.83,  0.77,  0.71,  0.67,  0.62,  0.59,  0.56, 0.53]))\n",
    "# beta_list = [round(1/k,2) for k in range(10,1,-1)]+[k for k in range(1,11)]\n",
    "#beta = 1/10 1/9.. 1 2 3.. 10\n",
    "\n",
    "# for beta in beta_list:\n",
    "for beta in beta_list:\n",
    "    print(f'starting beta={beta} training')\n",
    "    iterations = 0\n",
    "    cost_list = []\n",
    "\n",
    "    number = nr_qubits * (1 + depth * 4)\n",
    "    params = [np.random.randint(-300, 300) / 100 for i in range(0, number)]\n",
    "    out = minimize(cost_execution, x0=params, tol=0.1, args=(beta),method=\"COBYLA\", options={\"maxiter\": 1600})\n",
    "    out_params = out[\"x\"]\n",
    "    savetxt(f'{nr_qubits}pt_beta_is_{beta}.csv', cost_list, delimiter=',')\n",
    "    savetxt(f'{nr_qubits}pt_beta_is_{beta}_params.csv', out_params, delimiter=',')"
   ]
  },
  {
   "cell_type": "code",
   "execution_count": 109,
   "metadata": {},
   "outputs": [],
   "source": [
    "#수정사항! energy 함수를 새로 정의했다. exact_cost 함수와 거의 동일하지만, 뒤에 entropy를 제거하고 에너지만 계산하였다. 여기에 저장된 parameter를 넣고 해당하는 beta를 대입하면 에너지 평균값을 내보낸다.\n",
    "\n",
    "def energy(params,beta):\n",
    "\n",
    "    global iterations\n",
    "\n",
    "    # Transforms the parameter list\n",
    "    parameters = convert_list(params)\n",
    "    dist_params = parameters[0]\n",
    "    ansatz_params = parameters[1]\n",
    "\n",
    "    # Creates the probability distribution\n",
    "    distribution = prob_dist(dist_params)\n",
    "\n",
    "    # Generates a list of all computational basis states of our qubit system\n",
    "    combos = itertools.product([0, 1], repeat=nr_qubits)\n",
    "    s = [list(c) for c in combos]\n",
    "\n",
    "    # Passes each basis state through the variational circuit and multiplies\n",
    "    # the calculated energy EV with the associated probability from the distribution\n",
    "    cost = 0\n",
    "    for i in s:\n",
    "        result = qnode(ansatz_params[0], ansatz_params[1], sample=i)\n",
    "        for j in range(0, len(i)):\n",
    "            result = result * distribution[j][i[j]]\n",
    "        cost += result\n",
    "\n",
    "    # Calculates the entropy and the final cost function\n",
    "#     entropy = calculate_entropy(distribution)\n",
    "#     final_cost = beta * cost - entropy\n",
    "    final_cost = cost\n",
    "\n",
    "    return final_cost"
   ]
  },
  {
   "cell_type": "code",
   "execution_count": null,
   "metadata": {},
   "outputs": [],
   "source": [
    "#수정사항! 온도에 따른 에너지 평균값. 저장된 params를 불러오는 코드가 np.loadtxt 이다.\n",
    "\n",
    "beta_list = [round(1/k,2) for k in range(10,1,-1)]+[k for k in range(1,11)]\n",
    "T = [1/beta for beta in beta_list]\n",
    "E = []\n",
    "for beta in beta_list:\n",
    "    params = np.array(np.loadtxt(f'beta_is_{beta}_params.csv', dtype=float))\n",
    "    E.append(energy(params,beta))\n",
    "\n",
    "plt.plot(T,E,'.')\n",
    "plt.xlabel('T')\n",
    "plt.ylabel('E')"
   ]
  },
  {
   "cell_type": "markdown",
   "metadata": {},
   "source": [
    "We can now check to see how well our optimization method performed by\n",
    "writing a function that reconstructs the transformed density matrix of\n",
    "some initial state, with respect to lists of $\\theta$ and $\\phi$\n",
    "parameters:\n"
   ]
  },
  {
   "cell_type": "code",
   "execution_count": null,
   "metadata": {},
   "outputs": [],
   "source": [
    "def prepare_state(params, device):\n",
    "\n",
    "    # Initializes the density matrix\n",
    "\n",
    "    final_density_matrix = np.zeros((2 ** nr_qubits, 2 ** nr_qubits))\n",
    "\n",
    "    # Prepares the optimal parameters, creates the distribution and the bitstrings\n",
    "    parameters = convert_list(params)\n",
    "    dist_params = parameters[0]\n",
    "    unitary_params = parameters[1]\n",
    "\n",
    "    distribution = prob_dist(dist_params)\n",
    "\n",
    "    combos = itertools.product([0, 1], repeat=nr_qubits)\n",
    "    s = [list(c) for c in combos]\n",
    "\n",
    "    # Runs the circuit in the case of the optimal parameters, for each bitstring,\n",
    "    # and adds the result to the final density matrix\n",
    "\n",
    "    for i in s:\n",
    "        qnode(unitary_params[0], unitary_params[1], sample=i)\n",
    "        state = device.state\n",
    "        for j in range(0, len(i)):\n",
    "            state = np.sqrt(distribution[j][i[j]]) * state\n",
    "        final_density_matrix = np.add(final_density_matrix, np.outer(state, np.conj(state)))\n",
    "\n",
    "    return final_density_matrix\n",
    "\n",
    "# Prepares the density matrix\n",
    "prep_density_matrix = prepare_state(out_params, dev)"
   ]
  },
  {
   "cell_type": "markdown",
   "metadata": {},
   "source": [
    "We then display the prepared state by plotting a heatmap of the\n",
    "entry-wise absolute value of the density matrix:\n"
   ]
  },
  {
   "cell_type": "code",
   "execution_count": null,
   "metadata": {},
   "outputs": [],
   "source": [
    "seaborn.heatmap(abs(prep_density_matrix))\n",
    "plt.show()"
   ]
  },
  {
   "cell_type": "markdown",
   "metadata": {},
   "source": [
    "Numerical Calculations\n",
    "======================\n"
   ]
  },
  {
   "cell_type": "markdown",
   "metadata": {},
   "source": [
    "To verify that we have in fact prepared a good approximation of the\n",
    "thermal state, let's calculate it numerically by taking the matrix\n",
    "exponential of the Heisenberg Hamiltonian, as was outlined earlier.\n"
   ]
  },
  {
   "cell_type": "code",
   "execution_count": 171,
   "metadata": {},
   "outputs": [],
   "source": [
    "def create_target(qubit, beta, ham, graph):\n",
    "\n",
    "    # Calculates the matrix form of the density matrix, by taking\n",
    "    # the exponential of the Hamiltonian\n",
    "\n",
    "    h = ham(qubit, graph)\n",
    "    y = -1 * float(beta) * h\n",
    "    new_matrix = scipy.linalg.expm(np.array(y))\n",
    "    norm = np.trace(new_matrix)\n",
    "    final_target = (1 / norm) * new_matrix\n",
    "\n",
    "    return final_target\n",
    "\n",
    "\n",
    "target_density_matrix = create_target(\n",
    "    nr_qubits, beta,\n",
    "    create_hamiltonian_matrix,\n",
    "    interaction_graph\n",
    "    )"
   ]
  },
  {
   "cell_type": "markdown",
   "metadata": {},
   "source": [
    "Finally, we can plot a heatmap of the target density matrix:\n"
   ]
  },
  {
   "cell_type": "code",
   "execution_count": null,
   "metadata": {},
   "outputs": [],
   "source": [
    "seaborn.heatmap(abs(target_density_matrix))\n",
    "plt.show()"
   ]
  },
  {
   "cell_type": "markdown",
   "metadata": {},
   "source": [
    "The two images look very similar, which suggests that we have\n",
    "constructed a good approximation of the thermal state! Alternatively, if\n",
    "you prefer a more quantitative measure of similarity, we can calculate\n",
    "the trace distance between the two density matrices, which is defined as\n",
    "\n",
    "$$T(\\rho, \\ \\sigma) \\ = \\ \\frac{1}{2} \\text{Tr} \\sqrt{(\\rho \\ - \\ \\sigma)^{\\dagger} (\\rho \\ - \\ \\sigma)},$$\n",
    "\n",
    "and is a metric on the space of density matrices:\n"
   ]
  },
  {
   "cell_type": "code",
   "execution_count": null,
   "metadata": {},
   "outputs": [],
   "source": [
    "def trace_distance(one, two):\n",
    "\n",
    "    return 0.5 * np.trace(np.absolute(np.add(one, -1 * two)))\n",
    "\n",
    "\n",
    "print(\"Trace Distance: \" + str(trace_distance(target_density_matrix, prep_density_matrix)))"
   ]
  },
  {
   "cell_type": "markdown",
   "metadata": {},
   "source": [
    "The closer to zero, the more similar the two states are. Thus, we have\n",
    "found a close approximation of the thermal state of $H$ with the VQT!\n"
   ]
  },
  {
   "cell_type": "code",
   "execution_count": 187,
   "metadata": {},
   "outputs": [
    {
     "name": "stdout",
     "output_type": "stream",
     "text": [
      "0.1 start\n",
      "0.10101937735329232 start\n",
      "0.1020597513453331 start\n",
      "0.10312177744445486 start\n",
      "0.10420613868889732 start\n",
      "0.10531354715174726 start\n",
      "0.1064447455002903 start\n",
      "0.10760050865695002 start\n",
      "0.10878164556962026 start\n",
      "0.10998900109989002 start\n",
      "0.11122345803842265 start\n",
      "0.11248593925759282 start\n",
      "0.11377741001241208 start\n",
      "0.11509888040179973 start\n",
      "0.1164514080033877 start\n",
      "0.11783610069630424 start\n",
      "0.11925411968777104 start\n",
      "0.12070668276089105 start\n",
      "0.12219506776271939 start\n",
      "0.12372061635361603 start\n",
      "0.1252847380410023 start\n",
      "0.12688891452301304 start\n",
      "0.12853470437017997 start\n",
      "0.1302237480762401 start\n",
      "0.131957773512476 start\n",
      "0.13373860182370823 start\n",
      "0.1355681538082327 start\n",
      "0.13744845682868925 start\n",
      "0.1393816523061328 start\n",
      "0.14137000385554557 start\n",
      "0.14341590612777053 start\n",
      "0.14552189443048025 start\n",
      "0.1476906552094522 start\n",
      "0.14992503748125938 start\n",
      "0.15222806531967895 start\n",
      "0.15460295151089248 start\n",
      "0.15705311250713877 start\n",
      "0.159582184825185 start\n",
      "0.16219404305514598 start\n",
      "0.1648928196672163 start\n",
      "0.1676829268292683 start\n",
      "0.17056908047759345 start\n",
      "0.17355632691700854 start\n",
      "0.17665007226593868 start\n",
      "0.1798561151079137 start\n",
      "0.18318068276436303 start\n",
      "0.18663047166610114 start\n",
      "0.19021269237420024 start\n",
      "0.19393511988716503 start\n",
      "0.19780614997302645 start\n",
      "0.2018348623853211 start\n",
      "0.20603109196478742 start\n",
      "0.21040550879877584 start\n",
      "0.21496970881375807 start\n",
      "0.21973631642029565 start\n",
      "0.22471910112359555 start\n",
      "0.229933110367893 start\n",
      "0.2353948213139311 start\n",
      "0.24112231477422189 start\n",
      "0.2471354751741182 start\n",
      "0.2534562211981567 start\n",
      "0.26010877275951766 start\n",
      "0.2671199611461875 start\n",
      "0.2745195907162466 start\n",
      "0.282340862422998 start\n",
      "0.29062087186261565 start\n",
      "0.29940119760479045 start\n",
      "0.3087285994948078 start\n",
      "0.31865585168018545 start\n",
      "0.32924274169410356 start\n",
      "0.3405572755417957 start\n",
      "0.35267714010900936 start\n",
      "0.36569148936170215 start\n",
      "0.3797031411805316 start\n",
      "0.3948312993539125 start\n",
      "0.4112149532710281 start\n",
      "0.42901716068642753 start\n",
      "0.4484304932735427 start\n",
      "0.4696840307429548 start\n",
      "0.4930524428507397 start\n",
      "0.5188679245283019 start\n",
      "0.547536087605774 start\n",
      "0.5795574288724974 start\n",
      "0.6155567991046447 start\n",
      "0.6563245823389021 start\n",
      "0.7028753993610224 start\n",
      "0.7565337001375516 start\n",
      "0.8190618019359642 start\n",
      "0.8928571428571429 start\n",
      "0.9812667261373774 start\n",
      "1.089108910891089 start\n",
      "1.2235817575083425 start\n",
      "1.3959390862944163 start\n",
      "1.6248153618906942 start\n",
      "1.9434628975265018 start\n",
      "2.4175824175824174 start\n",
      "3.197674418604651 start\n",
      "4.721030042918454 start\n",
      "9.01639344262295 start\n",
      "100.0 start\n"
     ]
    },
    {
     "data": {
      "text/plain": [
       "Text(0, 0.5, 'E')"
      ]
     },
     "execution_count": 187,
     "metadata": {},
     "output_type": "execute_result"
    },
    {
     "data": {
      "image/png": "[encoded data removed]",
      "text/plain": [
       "<Figure size 640x480 with 1 Axes>"
      ]
     },
     "metadata": {},
     "output_type": "display_data"
    }
   ],
   "source": [
    "#수정사항! E = Tr(H@rho)와 rho = exp(-beta H) / Tr[exp(-beta H)] 를 이용해서 energy를 정확하게 계산해봤습니다\n",
    "\n",
    "nr_qubits = 10\n",
    "beta_list = [1/t for t in np.linspace(0.01,10,100)]\n",
    "beta_list.sort()\n",
    "exactenergy_list = []\n",
    "for beta in beta_list:\n",
    "    target_density_matrix = create_target(nr_qubits, beta, create_hamiltonian_matrix, interaction_graph)\n",
    "    hamiltonian = create_hamiltonian_matrix(nr_qubits, interaction_graph)\n",
    "    exactenergy = np.trace(hamiltonian@target_density_matrix)\n",
    "    exactenergy_list.append(exactenergy)\n",
    "    print(f\"{beta} start\", end=' ')\n",
    "T = [1/beta for beta in beta_list]\n",
    "plt.plot(T,exactenergy_list,'.')\n",
    "plt.xlabel('T')\n",
    "plt.ylabel('E')"
   ]
  },
  {
   "cell_type": "code",
   "execution_count": 188,
   "metadata": {},
   "outputs": [
    {
     "data": {
      "image/png": "[encoded data removed]",
      "text/plain": [
       "<Figure size 640x480 with 1 Axes>"
      ]
     },
     "metadata": {},
     "output_type": "display_data"
    }
   ],
   "source": [
    "#수정사항! 위에서 matrix 연산을 통해 구한 E를 T에 대해 미분하여 열용량 C를 구하였습니다.\n",
    "\n",
    "plt.plot((np.array(T)[1:] + T[:-1]) / 2, np.divide(np.diff(np.array(exactenergy_list)),np.diff(np.array(T))),'.')\n",
    "# plt.xlim([0,2])\n",
    "plt.xlabel('T')\n",
    "plt.ylabel('C')\n",
    "plt.show()"
   ]
  },
  {
   "cell_type": "markdown",
   "metadata": {},
   "source": [
    "References\n",
    "==========\n",
    "\n",
    "1.  Verdon, G., Marks, J., Nanda, S., Leichenauer, S., & Hidary, J.\n",
    "    (2019). Quantum Hamiltonian-Based Models and the Variational Quantum\n",
    "    Thermalizer Algorithm. arXiv preprint\n",
    "    [arXiv:1910.02071](https://arxiv.org/abs/1910.02071).\n",
    "\n",
    "About the author\n",
    "================\n"
   ]
  }
 ],
 "metadata": {
  "kernelspec": {
   "display_name": "Python 3 (ipykernel)",
   "language": "python",
   "name": "python3"
  },
  "language_info": {
   "codemirror_mode": {
    "name": "ipython",
    "version": 3
   },
   "file_extension": ".py",
   "mimetype": "text/x-python",
   "name": "python",
   "nbconvert_exporter": "python",
   "pygments_lexer": "ipython3",
   "version": "3.9.15"
  }
 },
 "nbformat": 4,
 "nbformat_minor": 1
}
