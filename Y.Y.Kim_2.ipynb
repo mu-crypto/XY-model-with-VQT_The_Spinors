{
 "cells": [
  {
   "cell_type": "code",
   "execution_count": 1,
   "id": "7b628f44",
   "metadata": {},
   "outputs": [],
   "source": [
    "import pennylane as qml\n",
    "import pandas as pd\n",
    "import matplotlib.pyplot as plt\n",
    "import matplotlib as mpl\n",
    "import matplotlib.ticker as ticker\n",
    "import numpy as np\n",
    "from numpy import array\n",
    "import scipy\n",
    "from scipy.optimize import minimize\n",
    "import networkx as nx\n",
    "import itertools\n",
    "from numpy import savetxt\n",
    "from numba import jit, cuda\n",
    "import seaborn\n",
    "\n",
    "np.random.seed(42)"
   ]
  },
  {
   "cell_type": "code",
   "execution_count": 2,
   "id": "fdff9ba8",
   "metadata": {},
   "outputs": [],
   "source": [
    "nr_qubits=4"
   ]
  },
  {
   "cell_type": "code",
   "execution_count": 3,
   "id": "7d27c486",
   "metadata": {},
   "outputs": [
    {
     "data": {
      "image/png": "[encoded data removed]",
      "text/plain": [
       "<Figure size 640x480 with 1 Axes>"
      ]
     },
     "metadata": {},
     "output_type": "display_data"
    }
   ],
   "source": [
    "# Interaction Picture\n",
    "\n",
    "interaction_graph = nx.cycle_graph(nr_qubits)\n",
    "nx.draw(interaction_graph)"
   ]
  },
  {
   "cell_type": "code",
   "execution_count": 4,
   "id": "486f8482",
   "metadata": {},
   "outputs": [],
   "source": [
    "# Hamiltonian\n",
    "def create_hamiltonian_matrix(n, h, graph):\n",
    "    matrix = np.zeros((2 ** n, 2 ** n))\n",
    "    for i in graph.edges:\n",
    "        x = y = 1\n",
    "        for j in range(0, n):\n",
    "            if j == i[0]:\n",
    "                x = np.kron(x, qml.matrix(qml.PauliX)(0))\n",
    "                y = np.kron(y, qml.matrix(qml.PauliY)(0))\n",
    "                \n",
    "            elif j == i[1]:\n",
    "                x = np.kron(x, qml.matrix(qml.PauliX)(0))\n",
    "                y = np.kron(y, qml.matrix(qml.PauliY)(0))\n",
    "                \n",
    "            else:\n",
    "                x = np.kron(x, np.identity(2))\n",
    "                y = np.kron(y, np.identity(2))\n",
    "            \n",
    "        matrix = np.add(matrix, np.add(x, y))\n",
    "\n",
    "    for i in range(0, n):\n",
    "        z = 1\n",
    "        for j in range(0, n):\n",
    "            if j == i:\n",
    "                z = np.kron(z, qml.matrix(qml.PauliZ)(0))           \n",
    "                \n",
    "            else:\n",
    "                z = np.kron(z, np.identity(2))\n",
    "                \n",
    "        matrix = np.add(matrix, h*z) \n",
    "        \n",
    "    return matrix"
   ]
  },
  {
   "cell_type": "code",
   "execution_count": 5,
   "id": "0614201e",
   "metadata": {},
   "outputs": [],
   "source": [
    "# Matrix Representation of the Thermal State\n",
    "def create_target(qubit, beta, ham, b, graph):\n",
    "\n",
    "    # Calculates the matrix form of the density matrix by taking the exponential of the Hamiltonian\n",
    "\n",
    "    h = ham(qubit, b, graph)\n",
    "    y = -1 * float(beta) * h\n",
    "    new_matrix = scipy.linalg.expm(np.array(y))\n",
    "    norm = np.trace(new_matrix)\n",
    "    final_target = (1 / norm) * new_matrix\n",
    "\n",
    "    return final_target"
   ]
  },
  {
   "cell_type": "code",
   "execution_count": 7,
   "id": "449b1ddf",
   "metadata": {},
   "outputs": [],
   "source": [
    "# XY_matrix\n",
    "XY_matrix = 0\n",
    "x = y = 1\n",
    "for i in range(0, nr_qubits):\n",
    "    if i == 0:\n",
    "        x = np.kron(x, qml.matrix(qml.PauliX)(0))\n",
    "        y = np.kron(y, qml.matrix(qml.PauliY)(0))\n",
    "                \n",
    "    elif i == 1:\n",
    "        x = np.kron(x, qml.matrix(qml.PauliX)(0))\n",
    "        y = np.kron(y, qml.matrix(qml.PauliY)(0))\n",
    "                \n",
    "    else:\n",
    "        x = np.kron(x, np.identity(2))\n",
    "        y = np.kron(y, np.identity(2))\n",
    "            \n",
    "XY_matrix = np.add(XY_matrix, np.add(x, y))"
   ]
  },
  {
   "cell_type": "code",
   "execution_count": 8,
   "id": "cdde17d8",
   "metadata": {},
   "outputs": [],
   "source": [
    "h=0\n",
    "beta_list = [1/t for t in np.linspace(0.01,10,100)]\n",
    "beta_list.sort()\n",
    "T = [1/beta for beta in beta_list]\n",
    "exactenergy_list0 = []\n",
    "magnetization_list0=[]\n",
    "for beta in beta_list:\n",
    "    target_density_matrix = create_target(nr_qubits, beta, create_hamiltonian_matrix, h, interaction_graph)\n",
    "    hamiltonian = create_hamiltonian_matrix(nr_qubits, h, interaction_graph)\n",
    "    exactenergy = np.trace(np.matmul(hamiltonian, target_density_matrix))\n",
    "    magnetization = np.trace(np.matmul(XY_matrix, target_density_matrix))\n",
    "    exactenergy_list0.append(exactenergy)\n",
    "    magnetization_list0.append(magnetization)"
   ]
  },
  {
   "cell_type": "code",
   "execution_count": 40,
   "id": "d5caf8fb",
   "metadata": {},
   "outputs": [],
   "source": [
    "h=-0.1\n",
    "beta_list = [1/t for t in np.linspace(0.01,100,100)]\n",
    "beta_list.sort()\n",
    "T = [1/beta for beta in beta_list]\n",
    "exactenergy_list_1_ = []\n",
    "magnetization_list_1_=[]\n",
    "for beta in beta_list:\n",
    "    target_density_matrix = create_target(nr_qubits, beta, create_hamiltonian_matrix, h, interaction_graph)\n",
    "    hamiltonian = create_hamiltonian_matrix(nr_qubits, h, interaction_graph)\n",
    "    exactenergy = np.trace(np.matmul(hamiltonian, target_density_matrix))\n",
    "    magnetization = np.trace(np.matmul(XY_matrix, target_density_matrix))\n",
    "    exactenergy_list_1_.append(exactenergy)\n",
    "    magnetization_list_1_.append(magnetization)"
   ]
  },
  {
   "cell_type": "code",
   "execution_count": 39,
   "id": "02f722c0",
   "metadata": {},
   "outputs": [],
   "source": [
    "h=-0.2\n",
    "beta_list = [1/t for t in np.linspace(0.01,100,100)]\n",
    "beta_list.sort()\n",
    "T = [1/beta for beta in beta_list]\n",
    "exactenergy_list_2_ = []\n",
    "magnetization_list_2_=[]\n",
    "for beta in beta_list:\n",
    "    target_density_matrix = create_target(nr_qubits, beta, create_hamiltonian_matrix, h, interaction_graph)\n",
    "    hamiltonian = create_hamiltonian_matrix(nr_qubits, h, interaction_graph)\n",
    "    exactenergy = np.trace(np.matmul(hamiltonian, target_density_matrix))\n",
    "    magnetization = np.trace(np.matmul(XY_matrix, target_density_matrix))\n",
    "    exactenergy_list_2_.append(exactenergy)\n",
    "    magnetization_list_2_.append(magnetization)"
   ]
  },
  {
   "cell_type": "code",
   "execution_count": 27,
   "id": "0f08e04e",
   "metadata": {},
   "outputs": [],
   "source": [
    "h=-0.5\n",
    "beta_list = [1/t for t in np.linspace(0.01,100,100)]\n",
    "beta_list.sort()\n",
    "T = [1/beta for beta in beta_list]\n",
    "exactenergy_list_5_ = []\n",
    "magnetization_list_5_=[]\n",
    "for beta in beta_list:\n",
    "    target_density_matrix = create_target(nr_qubits, beta, create_hamiltonian_matrix, h, interaction_graph)\n",
    "    hamiltonian = create_hamiltonian_matrix(nr_qubits, h, interaction_graph)\n",
    "    exactenergy = np.trace(np.matmul(hamiltonian, target_density_matrix))\n",
    "    magnetization = np.trace(np.matmul(XY_matrix, target_density_matrix))\n",
    "    exactenergy_list_5_.append(exactenergy)\n",
    "    magnetization_list_5_.append(magnetization)"
   ]
  },
  {
   "cell_type": "code",
   "execution_count": 16,
   "id": "a7e28514",
   "metadata": {},
   "outputs": [],
   "source": [
    "h=-1\n",
    "beta_list = [1/t for t in np.linspace(0.01,100,100)]\n",
    "beta_list.sort()\n",
    "T = [1/beta for beta in beta_list]\n",
    "exactenergy_list1_ = []\n",
    "magnetization_list1_=[]\n",
    "for beta in beta_list:\n",
    "    target_density_matrix = create_target(nr_qubits, beta, create_hamiltonian_matrix, h, interaction_graph)\n",
    "    hamiltonian = create_hamiltonian_matrix(nr_qubits, h, interaction_graph)\n",
    "    exactenergy = np.trace(np.matmul(hamiltonian, target_density_matrix))\n",
    "    magnetization = np.trace(np.matmul(XY_matrix, target_density_matrix))\n",
    "    exactenergy_list1_.append(exactenergy)\n",
    "    magnetization_list1_.append(magnetization)"
   ]
  },
  {
   "cell_type": "code",
   "execution_count": 26,
   "id": "5b7e9442",
   "metadata": {},
   "outputs": [
    {
     "name": "stderr",
     "output_type": "stream",
     "text": [
      "C:\\Users\\user\\AppData\\Local\\Temp\\ipykernel_22956\\1106209622.py:10: RuntimeWarning: invalid value encountered in multiply\n",
      "  final_target = (1 / norm) * new_matrix\n"
     ]
    }
   ],
   "source": [
    "h=-1.9\n",
    "beta_list = [1/t for t in np.linspace(0.01,100,100)]\n",
    "beta_list.sort()\n",
    "T = [1/beta for beta in beta_list]\n",
    "exactenergy_list1_9_ = []\n",
    "magnetization_list1_9_=[]\n",
    "for beta in beta_list:\n",
    "    target_density_matrix = create_target(nr_qubits, beta, create_hamiltonian_matrix, h, interaction_graph)\n",
    "    hamiltonian = create_hamiltonian_matrix(nr_qubits, h, interaction_graph)\n",
    "    exactenergy = np.trace(np.matmul(hamiltonian, target_density_matrix))\n",
    "    magnetization = np.trace(np.matmul(XY_matrix, target_density_matrix))\n",
    "    exactenergy_list1_9_.append(exactenergy)\n",
    "    magnetization_list1_9_.append(magnetization)"
   ]
  },
  {
   "cell_type": "code",
   "execution_count": 9,
   "id": "ab30b634",
   "metadata": {},
   "outputs": [
    {
     "name": "stderr",
     "output_type": "stream",
     "text": [
      "C:\\Users\\user\\anaconda3\\lib\\site-packages\\scipy\\linalg\\_matfuncs.py:375: RuntimeWarning: overflow encountered in matmul\n",
      "  eAw = eAw @ eAw\n",
      "C:\\Users\\user\\AppData\\Local\\Temp\\ipykernel_22956\\1106209622.py:10: RuntimeWarning: invalid value encountered in multiply\n",
      "  final_target = (1 / norm) * new_matrix\n"
     ]
    }
   ],
   "source": [
    "h=-2\n",
    "beta_list = [1/t for t in np.linspace(0.01,10,100)]\n",
    "beta_list.sort()\n",
    "T = [1/beta for beta in beta_list]\n",
    "exactenergy_list2_ = []\n",
    "magnetization_list2_=[]\n",
    "for beta in beta_list:\n",
    "    target_density_matrix = create_target(nr_qubits, beta, create_hamiltonian_matrix, h, interaction_graph)\n",
    "    hamiltonian = create_hamiltonian_matrix(nr_qubits, h, interaction_graph)\n",
    "    exactenergy = np.trace(np.matmul(hamiltonian, target_density_matrix))\n",
    "    magnetization = np.trace(np.matmul(XY_matrix, target_density_matrix))\n",
    "    exactenergy_list2_.append(exactenergy)\n",
    "    magnetization_list2_.append(magnetization)"
   ]
  },
  {
   "cell_type": "code",
   "execution_count": 15,
   "id": "ec50e773",
   "metadata": {},
   "outputs": [
    {
     "name": "stderr",
     "output_type": "stream",
     "text": [
      "C:\\Users\\user\\AppData\\Local\\Temp\\ipykernel_22956\\1106209622.py:10: RuntimeWarning: invalid value encountered in cdouble_scalars\n",
      "  final_target = (1 / norm) * new_matrix\n"
     ]
    }
   ],
   "source": [
    "h=-4\n",
    "beta_list = [1/t for t in np.linspace(0.01,10,100)]\n",
    "beta_list.sort()\n",
    "T = [1/beta for beta in beta_list]\n",
    "exactenergy_list4_ = []\n",
    "magnetization_list4_=[]\n",
    "for beta in beta_list:\n",
    "    target_density_matrix = create_target(nr_qubits, beta, create_hamiltonian_matrix, h, interaction_graph)\n",
    "    hamiltonian = create_hamiltonian_matrix(nr_qubits, h, interaction_graph)\n",
    "    exactenergy = np.trace(np.matmul(hamiltonian, target_density_matrix))\n",
    "    magnetization = np.trace(np.matmul(XY_matrix, target_density_matrix))\n",
    "    exactenergy_list4_.append(exactenergy)\n",
    "    magnetization_list4_.append(magnetization)"
   ]
  },
  {
   "cell_type": "code",
   "execution_count": 17,
   "id": "ae5c64b1",
   "metadata": {},
   "outputs": [
    {
     "name": "stderr",
     "output_type": "stream",
     "text": [
      "C:\\Users\\user\\AppData\\Local\\Temp\\ipykernel_22956\\1106209622.py:10: RuntimeWarning: invalid value encountered in cdouble_scalars\n",
      "  final_target = (1 / norm) * new_matrix\n"
     ]
    }
   ],
   "source": [
    "h=-6\n",
    "beta_list = [1/t for t in np.linspace(0.01,10,100)]\n",
    "beta_list.sort()\n",
    "T = [1/beta for beta in beta_list]\n",
    "exactenergy_list6_ = []\n",
    "magnetization_list6_=[]\n",
    "for beta in beta_list:\n",
    "    target_density_matrix = create_target(nr_qubits, beta, create_hamiltonian_matrix, h, interaction_graph)\n",
    "    hamiltonian = create_hamiltonian_matrix(nr_qubits, h, interaction_graph)\n",
    "    exactenergy = np.trace(np.matmul(hamiltonian, target_density_matrix))\n",
    "    magnetization = np.trace(np.matmul(XY_matrix, target_density_matrix))\n",
    "    exactenergy_list6_.append(exactenergy)\n",
    "    magnetization_list6_.append(magnetization)"
   ]
  },
  {
   "cell_type": "code",
   "execution_count": 18,
   "id": "db9e9de2",
   "metadata": {},
   "outputs": [
    {
     "name": "stderr",
     "output_type": "stream",
     "text": [
      "C:\\Users\\user\\AppData\\Local\\Temp\\ipykernel_22956\\1106209622.py:10: RuntimeWarning: invalid value encountered in cdouble_scalars\n",
      "  final_target = (1 / norm) * new_matrix\n"
     ]
    }
   ],
   "source": [
    "h=-8\n",
    "beta_list = [1/t for t in np.linspace(0.01,10,100)]\n",
    "beta_list.sort()\n",
    "T = [1/beta for beta in beta_list]\n",
    "exactenergy_list8_ = []\n",
    "magnetization_list8_=[]\n",
    "for beta in beta_list:\n",
    "    target_density_matrix = create_target(nr_qubits, beta, create_hamiltonian_matrix, h, interaction_graph)\n",
    "    hamiltonian = create_hamiltonian_matrix(nr_qubits, h, interaction_graph)\n",
    "    exactenergy = np.trace(np.matmul(hamiltonian, target_density_matrix))\n",
    "    magnetization = np.trace(np.matmul(XY_matrix, target_density_matrix))\n",
    "    exactenergy_list8_.append(exactenergy)\n",
    "    magnetization_list8_.append(magnetization)"
   ]
  },
  {
   "cell_type": "code",
   "execution_count": 19,
   "id": "b7eb18f8",
   "metadata": {},
   "outputs": [
    {
     "name": "stderr",
     "output_type": "stream",
     "text": [
      "C:\\Users\\user\\AppData\\Local\\Temp\\ipykernel_22956\\1106209622.py:10: RuntimeWarning: invalid value encountered in cdouble_scalars\n",
      "  final_target = (1 / norm) * new_matrix\n"
     ]
    }
   ],
   "source": [
    "h=-10\n",
    "beta_list = [1/t for t in np.linspace(0.01,10,100)]\n",
    "beta_list.sort()\n",
    "T = [1/beta for beta in beta_list]\n",
    "exactenergy_list10_ = []\n",
    "magnetization_list10_=[]\n",
    "for beta in beta_list:\n",
    "    target_density_matrix = create_target(nr_qubits, beta, create_hamiltonian_matrix, h, interaction_graph)\n",
    "    hamiltonian = create_hamiltonian_matrix(nr_qubits, h, interaction_graph)\n",
    "    exactenergy = np.trace(np.matmul(hamiltonian, target_density_matrix))\n",
    "    magnetization = np.trace(np.matmul(XY_matrix, target_density_matrix))\n",
    "    exactenergy_list10_.append(exactenergy)\n",
    "    magnetization_list10_.append(magnetization)"
   ]
  },
  {
   "cell_type": "code",
   "execution_count": 20,
   "id": "ed06b97b",
   "metadata": {},
   "outputs": [
    {
     "name": "stderr",
     "output_type": "stream",
     "text": [
      "C:\\Users\\user\\AppData\\Local\\Temp\\ipykernel_22956\\1106209622.py:10: RuntimeWarning: invalid value encountered in cdouble_scalars\n",
      "  final_target = (1 / norm) * new_matrix\n"
     ]
    }
   ],
   "source": [
    "h=-12\n",
    "beta_list = [1/t for t in np.linspace(0.01,10,100)]\n",
    "beta_list.sort()\n",
    "T = [1/beta for beta in beta_list]\n",
    "exactenergy_list12_ = []\n",
    "magnetization_list12_=[]\n",
    "for beta in beta_list:\n",
    "    target_density_matrix = create_target(nr_qubits, beta, create_hamiltonian_matrix, h, interaction_graph)\n",
    "    hamiltonian = create_hamiltonian_matrix(nr_qubits, h, interaction_graph)\n",
    "    exactenergy = np.trace(np.matmul(hamiltonian, target_density_matrix))\n",
    "    magnetization = np.trace(np.matmul(XY_matrix, target_density_matrix))\n",
    "    exactenergy_list12_.append(exactenergy)\n",
    "    magnetization_list12_.append(magnetization)"
   ]
  },
  {
   "cell_type": "code",
   "execution_count": 10,
   "id": "bc17771c",
   "metadata": {},
   "outputs": [
    {
     "name": "stderr",
     "output_type": "stream",
     "text": [
      "C:\\Users\\user\\anaconda3\\lib\\site-packages\\scipy\\linalg\\_matfuncs.py:375: RuntimeWarning: invalid value encountered in matmul\n",
      "  eAw = eAw @ eAw\n",
      "C:\\Users\\user\\AppData\\Local\\Temp\\ipykernel_22956\\1106209622.py:10: RuntimeWarning: invalid value encountered in cdouble_scalars\n",
      "  final_target = (1 / norm) * new_matrix\n"
     ]
    }
   ],
   "source": [
    "h=-15\n",
    "beta_list = [1/t for t in np.linspace(0.01,10,100)]\n",
    "beta_list.sort()\n",
    "T = [1/beta for beta in beta_list]\n",
    "exactenergy_list15_ = []\n",
    "magnetization_list15_=[]\n",
    "for beta in beta_list:\n",
    "    target_density_matrix = create_target(nr_qubits, beta, create_hamiltonian_matrix, h, interaction_graph)\n",
    "    hamiltonian = create_hamiltonian_matrix(nr_qubits, h, interaction_graph)\n",
    "    exactenergy = np.trace(np.matmul(hamiltonian, target_density_matrix))\n",
    "    magnetization = np.trace(np.matmul(XY_matrix, target_density_matrix))\n",
    "    exactenergy_list15_.append(exactenergy)\n",
    "    magnetization_list15_.append(magnetization)"
   ]
  },
  {
   "cell_type": "code",
   "execution_count": 41,
   "id": "150278be",
   "metadata": {},
   "outputs": [],
   "source": [
    "NCE15_=[]\n",
    "NCM15_=[]\n",
    "for i in exactenergy_list15_ :\n",
    "    NCE15_.append(i.real)\n",
    "for i in magnetization_list15_ :\n",
    "    NCM15_.append(i.real)\n",
    "\n",
    "NCE12_=[]\n",
    "NCM12_=[]\n",
    "for i in exactenergy_list12_ :\n",
    "    NCE12_.append(i.real)\n",
    "for i in magnetization_list12_ :\n",
    "    NCM12_.append(i.real)\n",
    "    \n",
    "NCE10_=[]\n",
    "NCM10_=[]\n",
    "for i in exactenergy_list10_ :\n",
    "    NCE10_.append(i.real)\n",
    "for i in magnetization_list10_ :\n",
    "    NCM10_.append(i.real)\n",
    "\n",
    "NCE8_=[]\n",
    "NCM8_=[]\n",
    "for i in exactenergy_list8_ :\n",
    "    NCE8_.append(i.real)\n",
    "for i in magnetization_list8_ :\n",
    "    NCM8_.append(i.real)\n",
    "\n",
    "NCE6_=[]\n",
    "NCM6_=[]\n",
    "for i in exactenergy_list6_ :\n",
    "    NCE6_.append(i.real)\n",
    "for i in magnetization_list6_ :\n",
    "    NCM6_.append(i.real)\n",
    "\n",
    "NCE4_=[]\n",
    "NCM4_=[]\n",
    "for i in exactenergy_list4_ :\n",
    "    NCE4_.append(i.real)\n",
    "for i in magnetization_list4_ :\n",
    "    NCM4_.append(i.real)\n",
    "    \n",
    "NCE2_=[]\n",
    "NCM2_=[]\n",
    "for i in exactenergy_list2_ :\n",
    "    NCE2_.append(i.real)\n",
    "for i in magnetization_list2_ :\n",
    "    NCM2_.append(i.real)\n",
    "\n",
    "NCE1_9_=[]\n",
    "NCM1_9_=[]\n",
    "for i in exactenergy_list1_9_ :\n",
    "    NCE1_9_.append(i.real)\n",
    "for i in magnetization_list1_9_ :\n",
    "    NCM1_9_.append(i.real)\n",
    "    \n",
    "NCE1_=[]\n",
    "NCM1_=[]\n",
    "for i in exactenergy_list1_ :\n",
    "    NCE1_.append(i.real)\n",
    "for i in magnetization_list1_ :\n",
    "    NCM1_.append(i.real)\n",
    "    \n",
    "NCE_5_=[]\n",
    "NCM_5_=[]\n",
    "for i in exactenergy_list_5_ :\n",
    "    NCE_5_.append(i.real)\n",
    "for i in magnetization_list_5_ :\n",
    "    NCM_5_.append(i.real)\n",
    "    \n",
    "NCE_2_=[]\n",
    "NCM_2_=[]\n",
    "for i in exactenergy_list_2_ :\n",
    "    NCE_2_.append(i.real)\n",
    "for i in magnetization_list_2_ :\n",
    "    NCM_2_.append(i.real)\n",
    "    \n",
    "NCE_1_=[]\n",
    "NCM_1_=[]\n",
    "for i in exactenergy_list_1_ :\n",
    "    NCE_1_.append(i.real)\n",
    "for i in magnetization_list_1_ :\n",
    "    NCM_1_.append(i.real)\n",
    "    \n",
    "NCE0=[]\n",
    "NCM0=[]\n",
    "for i in exactenergy_list0 :\n",
    "    NCE0.append(i.real)\n",
    "for i in magnetization_list0 :\n",
    "    NCM0.append(i.real)\n"
   ]
  },
  {
   "cell_type": "markdown",
   "id": "23862912",
   "metadata": {},
   "source": [
    "#### XY Parameter Curve"
   ]
  },
  {
   "cell_type": "code",
   "execution_count": 42,
   "id": "2999f9da",
   "metadata": {
    "scrolled": true
   },
   "outputs": [
    {
     "data": {
      "text/plain": [
       "Text(0, 0.5, 'XY [a.u.]')"
      ]
     },
     "execution_count": 42,
     "metadata": {},
     "output_type": "execute_result"
    },
    {
     "data": {
      "image/png": "[encoded data removed]",
      "text/plain": [
       "<Figure size 800x500 with 1 Axes>"
      ]
     },
     "metadata": {},
     "output_type": "display_data"
    }
   ],
   "source": [
    "fig, ax = plt.subplots(figsize=(8, 5))\n",
    "\n",
    "ax.yaxis.set_major_locator(ticker.MultipleLocator(1))\n",
    "ax.yaxis.set_major_formatter(ticker.FormatStrFormatter('%.0f'))\n",
    "\n",
    "ax.scatter(T, NCM0, s=10, c='red', label=r'$h=0$')\n",
    "\n",
    "ax.scatter(T, NCM_1_, s=10, c='orangered', label=r'$h=-0.1$')\n",
    "\n",
    "ax.scatter(T, NCM_2_, s=10, c='orangered', label=r'$h=-0.2$')\n",
    "\n",
    "ax.scatter(T, NCM_5_, s=10, c='orangered', label=r'$h=-0.5$')\n",
    "\n",
    "ax.scatter(T, NCM1_, s=10, c='orange', label=r'$h=-1$')\n",
    "\n",
    "ax.scatter(T, NCM1_9_, s=10, c='yellow', label=r'$h=-1.9$')\n",
    "\n",
    "ax.scatter(T, NCM2_, s=10, c='greenyellow', label=r'$h=-2$')\n",
    "\n",
    "ax.scatter(T, NCM4_, s=10, c='forestgreen', label=r'$h=-4$')\n",
    "\n",
    "ax.scatter(T, NCM6_, s=10, c='blue', label=r'$h=-6$')\n",
    "\n",
    "ax.scatter(T, NCM8_, s=10, c='mediumblue', label=r'$h=-8$')\n",
    "\n",
    "ax.scatter(T, NCM10_, s=10, c='purple', label=r'$h=-10$')\n",
    "\n",
    "ax.scatter(T, NCM15_, s=10, c='black', label=r'$h=-15$')\n",
    "\n",
    "ax.legend(loc='upper right', fontsize=6)\n",
    "\n",
    "ax.set_xlabel('T [a.u.]',fontsize=20)\n",
    "ax.set_ylabel('XY [a.u.]',fontsize=20)"
   ]
  },
  {
   "cell_type": "markdown",
   "id": "d160306c",
   "metadata": {},
   "source": [
    "#### Order Parameter"
   ]
  },
  {
   "cell_type": "code",
   "execution_count": 44,
   "id": "12af2eae",
   "metadata": {},
   "outputs": [
    {
     "data": {
      "text/plain": [
       "(-1.0, 16.0)"
      ]
     },
     "execution_count": 44,
     "metadata": {},
     "output_type": "execute_result"
    },
    {
     "data": {
      "image/png": "[encoded data removed]",
      "text/plain": [
       "<Figure size 800x500 with 1 Axes>"
      ]
     },
     "metadata": {},
     "output_type": "display_data"
    }
   ],
   "source": [
    "# T~40\n",
    "OP3=[]\n",
    "OP3.append(NCM0[60])\n",
    "OP3.append(NCM1_[60])\n",
    "OP3.append(NCM2_[60])\n",
    "OP3.append(NCM4_[60])\n",
    "OP3.append(NCM6_[60])\n",
    "OP3.append(NCM8_[60])\n",
    "OP3.append(NCM10_[60])\n",
    "OP3.append(NCM15_[60])\n",
    "OP3.append(NCM12_[60])\n",
    "OP3.append(NCM1_9_[60])\n",
    "OP3.append(NCM_5_[60])\n",
    "OP3.append(NCM_2_[60])\n",
    "OP3.append(NCM_1_[60])\n",
    "\n",
    "EF3=[]\n",
    "EF3.append(0)\n",
    "EF3.append(1)\n",
    "EF3.append(2)\n",
    "EF3.append(4)\n",
    "EF3.append(6)\n",
    "EF3.append(8)\n",
    "EF3.append(10)\n",
    "EF3.append(15)\n",
    "EF3.append(12)\n",
    "EF3.append(1.9)\n",
    "EF3.append(0.5)\n",
    "EF3.append(0.2)\n",
    "EF3.append(0.1)\n",
    "\n",
    "fig, ax = plt.subplots(figsize=(8, 5))\n",
    "\n",
    "ax.yaxis.set_major_locator(ticker.MultipleLocator(0.2))\n",
    "ax.yaxis.set_major_formatter(ticker.FormatStrFormatter('%.1f'))\n",
    "\n",
    "ax.scatter(EF3, OP3, s=10, c='black', label=r'Order Parameter')\n",
    "\n",
    "ax.set_xlabel('h [a.u.]',fontsize=20)\n",
    "ax.set_ylabel('Order Parameter [a.u.]',fontsize=20)\n",
    "ax.set_xlim(-1, 16)"
   ]
  },
  {
   "cell_type": "code",
   "execution_count": 49,
   "id": "3c88b6e8",
   "metadata": {},
   "outputs": [
    {
     "data": {
      "text/plain": [
       "(-1.0, 16.0)"
      ]
     },
     "execution_count": 49,
     "metadata": {},
     "output_type": "execute_result"
    },
    {
     "data": {
      "image/png": "[encoded data removed]",
      "text/plain": [
       "<Figure size 800x500 with 1 Axes>"
      ]
     },
     "metadata": {},
     "output_type": "display_data"
    }
   ],
   "source": [
    "# T~60\n",
    "OP=[]\n",
    "OP.append(NCM0[40])\n",
    "OP.append(NCM1_[40])\n",
    "OP.append(NCM2_[40])\n",
    "OP.append(NCM4_[40])\n",
    "OP.append(NCM6_[40])\n",
    "OP.append(NCM8_[40])\n",
    "OP.append(NCM10_[40])\n",
    "OP.append(NCM15_[40])\n",
    "OP.append(NCM12_[40])\n",
    "OP.append(NCM1_9_[40])\n",
    "OP.append(NCM_5_[40])\n",
    "\n",
    "EF=[]\n",
    "EF.append(0)\n",
    "EF.append(1)\n",
    "EF.append(2)\n",
    "EF.append(4)\n",
    "EF.append(6)\n",
    "EF.append(8)\n",
    "EF.append(10)\n",
    "EF.append(15)\n",
    "EF.append(12)\n",
    "EF.append(1.9)\n",
    "EF.append(0.5)\n",
    "\n",
    "fig, ax = plt.subplots(figsize=(8, 5))\n",
    "\n",
    "ax.yaxis.set_major_locator(ticker.MultipleLocator(0.2))\n",
    "ax.yaxis.set_major_formatter(ticker.FormatStrFormatter('%.1f'))\n",
    "\n",
    "ax.scatter(EF, OP, s=10, c='black', label=r'Order Parameter')\n",
    "\n",
    "ax.set_xlabel('h [a.u.]',fontsize=20)\n",
    "ax.set_ylabel('Order Parameter [a.u.]',fontsize=20)\n",
    "ax.set_xlim(-1, 16)"
   ]
  },
  {
   "cell_type": "code",
   "execution_count": 65,
   "id": "d7ece93f",
   "metadata": {},
   "outputs": [],
   "source": [
    "fig, ax = plt.subplots(2, 1, sharex=True)\n",
    "fig.set_size_inches((10, 15)); plt.subplots_adjust(hspace=0)\n",
    "\n",
    "ax[0].yaxis.set_major_locator(ticker.MultipleLocator(0.1))\n",
    "ax[0].yaxis.set_major_formatter(ticker.FormatStrFormatter('%.1f'))\n",
    "ax[1].yaxis.set_major_locator(ticker.MultipleLocator(0.1))\n",
    "ax[1].yaxis.set_major_formatter(ticker.FormatStrFormatter('%.1f'))\n",
    "\n",
    "# ploting for T~40\n",
    "ax[0].set_xlim(-1, 16)\n",
    "ax[0].set_ylabel(r'$XY$ [a.u.]',fontsize=20)\n",
    "ax[0].axvline(2.0, 0, 1, color='red', linestyle='--', linewidth=2)\n",
    "ax[0].scatter(EF3, OP3, s=25, c='k')\n",
    "ax[0].text(-3, 0, '(a)', fontsize=20)\n",
    "\n",
    "# ploting for T~60\n",
    "ax[1].set_xlim(-1, 16)\n",
    "ax[1].set_ylabel(r'$XY$ [a.u.]',fontsize=20)\n",
    "ax[1].axvline(2.0, 0, 1, color='red', linestyle='--', linewidth=2)\n",
    "ax[1].scatter(EF, OP, s=25, c='k')\n",
    "ax[1].text(-3, -0.01, '(b)', fontsize=20)\n",
    "ax[1].set_xlabel(r'$h$ [a.u.]',fontsize=20)\n",
    "\n",
    "# save figure\n",
    "fig.savefig('Order Parameter Graph (XY).png',bbox_inches='tight', dpi=600)\n",
    "plt.close()"
   ]
  },
  {
   "cell_type": "code",
   "execution_count": 90,
   "id": "61f4aa68",
   "metadata": {},
   "outputs": [],
   "source": [
    "fig, ax = plt.subplots(figsize=(10, 10))\n",
    "\n",
    "ax.xaxis.set_major_locator(ticker.MultipleLocator(1))\n",
    "ax.xaxis.set_major_formatter(ticker.FormatStrFormatter('%.0f'))\n",
    "ax.yaxis.set_major_locator(ticker.MultipleLocator(1))\n",
    "ax.yaxis.set_major_formatter(ticker.FormatStrFormatter('%.0f'))\n",
    "\n",
    "\n",
    "xv=np.linspace(0, 10, 512)\n",
    "v=xv**2/50+1.8\n",
    "v_=-v\n",
    "\n",
    "ax.set_xlim(0, 10)\n",
    "ax.set_ylim(-5, 5)\n",
    "plt.axhline(2.0, 0, 1, color='lightgrey', linestyle='-', linewidth=2, label=r'$|h|=2$ Transition Line')\n",
    "plt.axhline(-2.0, 0, 1, color='lightgrey', linestyle='-', linewidth=2)\n",
    "plt.fill([0, 10, 10, 0], [2, 2, 5, 5], color='lightgray', alpha=0.5)\n",
    "plt.fill([0, 10, 10, 0], [-2, -2, -5, -5], color='lightgray', alpha=0.5)\n",
    "ax.plot(xv, v, color='black', linestyle='--', label='BKT Transition Line')\n",
    "ax.plot(xv, -v, color='black', linestyle='--')\n",
    "ax.text(4.3, 3.5, 'Phase 1', fontsize=20)\n",
    "ax.text(4.3, -3.5, 'Phase 1', fontsize=20)\n",
    "ax.text(4.3, 0, 'Phase 2', fontsize=20)\n",
    "ax.legend(loc='upper left', fontsize=15)\n",
    "\n",
    "ax.set_xlabel(r'$T$ [a.u.]',fontsize=20)\n",
    "ax.set_ylabel(r'$h$ [a.u.]',fontsize=20)\n",
    "\n",
    "# save figure\n",
    "fig.savefig('Phase Diagram.png',bbox_inches='tight', dpi=600)\n",
    "plt.close()"
   ]
  }
 ],
 "metadata": {
  "kernelspec": {
   "display_name": "Python 3 (ipykernel)",
   "language": "python",
   "name": "python3"
  },
  "language_info": {
   "codemirror_mode": {
    "name": "ipython",
    "version": 3
   },
   "file_extension": ".py",
   "mimetype": "text/x-python",
   "name": "python",
   "nbconvert_exporter": "python",
   "pygments_lexer": "ipython3",
   "version": "3.9.13"
  }
 },
 "nbformat": 4,
 "nbformat_minor": 5
}
