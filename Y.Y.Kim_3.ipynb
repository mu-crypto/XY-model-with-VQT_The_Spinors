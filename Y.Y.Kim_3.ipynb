{
 "cells": [
  {
   "cell_type": "code",
   "execution_count": 35,
   "id": "d019678d",
   "metadata": {},
   "outputs": [],
   "source": [
    "import pennylane as qml\n",
    "import pandas as pd\n",
    "import matplotlib.pyplot as plt\n",
    "import matplotlib as mpl\n",
    "import matplotlib.ticker as ticker\n",
    "import numpy as np\n",
    "from numpy import array\n",
    "import scipy\n",
    "from scipy.optimize import minimize\n",
    "import networkx as nx\n",
    "import itertools\n",
    "from numpy import savetxt\n",
    "from numba import jit, cuda\n",
    "import seaborn\n",
    "\n",
    "np.random.seed(42)"
   ]
  },
  {
   "cell_type": "code",
   "execution_count": 91,
   "id": "06fcf955",
   "metadata": {},
   "outputs": [],
   "source": [
    "nr_qubits=10"
   ]
  },
  {
   "cell_type": "code",
   "execution_count": 92,
   "id": "09a4b95b",
   "metadata": {},
   "outputs": [
    {
     "data": {
      "image/png": "[encoded data removed]",
      "text/plain": [
       "<Figure size 640x480 with 1 Axes>"
      ]
     },
     "metadata": {},
     "output_type": "display_data"
    }
   ],
   "source": [
    "# Interaction Picture\n",
    "\n",
    "interaction_graph = nx.cycle_graph(nr_qubits)\n",
    "nx.draw(interaction_graph)"
   ]
  },
  {
   "cell_type": "code",
   "execution_count": 94,
   "id": "b2d5b8cb",
   "metadata": {},
   "outputs": [
    {
     "data": {
      "text/plain": [
       "EdgeView([(0, 1), (0, 9), (1, 2), (2, 3), (3, 4), (4, 5), (5, 6), (6, 7), (7, 8), (8, 9)])"
      ]
     },
     "execution_count": 94,
     "metadata": {},
     "output_type": "execute_result"
    }
   ],
   "source": [
    "interaction_graph.edges"
   ]
  },
  {
   "cell_type": "code",
   "execution_count": 95,
   "id": "cf70eb6f",
   "metadata": {},
   "outputs": [],
   "source": [
    "# Hamiltonian\n",
    "def create_hamiltonian_matrix(n, h, graph):\n",
    "    matrix = np.zeros((2 ** n, 2 ** n))\n",
    "    for i in graph.edges:\n",
    "        x = y = 1\n",
    "        for j in range(0, n):\n",
    "            if j == i[0]:\n",
    "                x = np.kron(x, qml.matrix(qml.PauliX)(0))\n",
    "                y = np.kron(y, qml.matrix(qml.PauliY)(0))\n",
    "                \n",
    "            elif j == i[1]:\n",
    "                x = np.kron(x, qml.matrix(qml.PauliX)(0))\n",
    "                y = np.kron(y, qml.matrix(qml.PauliY)(0))\n",
    "                \n",
    "            else:\n",
    "                x = np.kron(x, np.identity(2))\n",
    "                y = np.kron(y, np.identity(2))\n",
    "            \n",
    "        matrix = np.add(matrix, np.add(x, y))\n",
    "\n",
    "    for i in range(0, n):\n",
    "        z = 1\n",
    "        for j in range(0, n):\n",
    "            if j == i:\n",
    "                z = np.kron(z, qml.matrix(qml.PauliZ)(0))           \n",
    "                \n",
    "            else:\n",
    "                z = np.kron(z, np.identity(2))\n",
    "                \n",
    "        matrix = np.add(matrix, h*z) \n",
    "        \n",
    "    return matrix"
   ]
  },
  {
   "cell_type": "code",
   "execution_count": 96,
   "id": "8093121f",
   "metadata": {},
   "outputs": [],
   "source": [
    "# Matrix Representation of the Thermal State\n",
    "def create_target(qubit, beta, ham, b, graph):\n",
    "\n",
    "    # Calculates the matrix form of the density matrix by taking the exponential of the Hamiltonian\n",
    "\n",
    "    h = ham(qubit, b, graph)\n",
    "    y = -1 * float(beta) * h\n",
    "    new_matrix = scipy.linalg.expm(np.array(y))\n",
    "    norm = np.trace(new_matrix)\n",
    "    final_target = (1 / norm) * new_matrix\n",
    "\n",
    "    return final_target"
   ]
  },
  {
   "cell_type": "code",
   "execution_count": 97,
   "id": "d73b4bf4",
   "metadata": {},
   "outputs": [],
   "source": [
    "# XY_matrix\n",
    "XY_matrix = 1\n",
    "for i in range(nr_qubits):\n",
    "    if i==0 :\n",
    "        XY_matrix = np.kron(XY_matrix, qml.matrix(qml.PauliZ(0)))\n",
    "    else :\n",
    "        XY_matrix = np.kron(XY_matrix, np.identity(2)) "
   ]
  },
  {
   "cell_type": "code",
   "execution_count": 99,
   "id": "eda405ac",
   "metadata": {},
   "outputs": [
    {
     "name": "stderr",
     "output_type": "stream",
     "text": [
      "C:\\Users\\user\\AppData\\Local\\Temp\\ipykernel_29960\\1106209622.py:10: RuntimeWarning: invalid value encountered in multiply\n",
      "  final_target = (1 / norm) * new_matrix\n"
     ]
    }
   ],
   "source": [
    "h=0\n",
    "beta_list = [1/t for t in np.linspace(0.01,10,100)]\n",
    "beta_list.sort()\n",
    "T = [1/beta for beta in beta_list]\n",
    "exactenergy_list0 = []\n",
    "magnetization_list0=[]\n",
    "for beta in beta_list:\n",
    "    target_density_matrix = create_target(nr_qubits, beta, create_hamiltonian_matrix, h, interaction_graph)\n",
    "    hamiltonian = create_hamiltonian_matrix(nr_qubits, h, interaction_graph)\n",
    "    exactenergy = np.trace(np.matmul(hamiltonian, target_density_matrix))\n",
    "    magnetization = np.trace(np.matmul(XY_matrix, target_density_matrix))\n",
    "    exactenergy_list0.append(exactenergy)\n",
    "    magnetization_list0.append(magnetization)"
   ]
  },
  {
   "cell_type": "code",
   "execution_count": 100,
   "id": "8db809cf",
   "metadata": {},
   "outputs": [
    {
     "name": "stderr",
     "output_type": "stream",
     "text": [
      "C:\\Users\\user\\AppData\\Local\\Temp\\ipykernel_29960\\1106209622.py:10: RuntimeWarning: invalid value encountered in cdouble_scalars\n",
      "  final_target = (1 / norm) * new_matrix\n"
     ]
    }
   ],
   "source": [
    "h=-2\n",
    "beta_list = [1/t for t in np.linspace(0.01,10,100)]\n",
    "beta_list.sort()\n",
    "T = [1/beta for beta in beta_list]\n",
    "exactenergy_list2_ = []\n",
    "magnetization_list2_=[]\n",
    "for beta in beta_list:\n",
    "    target_density_matrix = create_target(nr_qubits, beta, create_hamiltonian_matrix, h, interaction_graph)\n",
    "    hamiltonian = create_hamiltonian_matrix(nr_qubits, h, interaction_graph)\n",
    "    exactenergy = np.trace(np.matmul(hamiltonian, target_density_matrix))\n",
    "    magnetization = np.trace(np.matmul(XY_matrix, target_density_matrix))\n",
    "    exactenergy_list2_.append(exactenergy)\n",
    "    magnetization_list2_.append(magnetization)"
   ]
  },
  {
   "cell_type": "code",
   "execution_count": 101,
   "id": "a0743a63",
   "metadata": {},
   "outputs": [
    {
     "name": "stderr",
     "output_type": "stream",
     "text": [
      "C:\\Users\\user\\AppData\\Local\\Temp\\ipykernel_29960\\1106209622.py:10: RuntimeWarning: invalid value encountered in multiply\n",
      "  final_target = (1 / norm) * new_matrix\n",
      "C:\\Users\\user\\AppData\\Local\\Temp\\ipykernel_29960\\1106209622.py:10: RuntimeWarning: invalid value encountered in cdouble_scalars\n",
      "  final_target = (1 / norm) * new_matrix\n"
     ]
    }
   ],
   "source": [
    "h=-15\n",
    "beta_list = [1/t for t in np.linspace(0.01,10,100)]\n",
    "beta_list.sort()\n",
    "T = [1/beta for beta in beta_list]\n",
    "exactenergy_list15_ = []\n",
    "magnetization_list15_=[]\n",
    "for beta in beta_list:\n",
    "    target_density_matrix = create_target(nr_qubits, beta, create_hamiltonian_matrix, h, interaction_graph)\n",
    "    hamiltonian = create_hamiltonian_matrix(nr_qubits, h, interaction_graph)\n",
    "    exactenergy = np.trace(np.matmul(hamiltonian, target_density_matrix))\n",
    "    magnetization = np.trace(np.matmul(XY_matrix, target_density_matrix))\n",
    "    exactenergy_list15_.append(exactenergy)\n",
    "    magnetization_list15_.append(magnetization)"
   ]
  },
  {
   "cell_type": "code",
   "execution_count": 102,
   "id": "79d879ce",
   "metadata": {},
   "outputs": [],
   "source": [
    "NCE0=[]\n",
    "NCM0=[]\n",
    "for i in exactenergy_list0 :\n",
    "    NCE0.append(i.real)\n",
    "for i in magnetization_list0 :\n",
    "    NCM0.append(i.real)\n",
    "    \n",
    "NCE2_=[]\n",
    "NCM2_=[]\n",
    "for i in exactenergy_list2_ :\n",
    "    NCE2_.append(i.real)\n",
    "for i in magnetization_list2_ :\n",
    "    NCM2_.append(i.real)\n",
    "\n",
    "NCE15_=[]\n",
    "NCM15_=[]\n",
    "for i in exactenergy_list15_ :\n",
    "    NCE15_.append(i.real)\n",
    "for i in magnetization_list15_ :\n",
    "    NCM15_.append(i.real)"
   ]
  },
  {
   "cell_type": "code",
   "execution_count": 109,
   "id": "765fd117",
   "metadata": {},
   "outputs": [],
   "source": [
    "fig, ax = plt.subplots(figsize=(8, 5))\n",
    "\n",
    "ax.yaxis.set_major_locator(ticker.MultipleLocator(1))\n",
    "ax.yaxis.set_major_formatter(ticker.FormatStrFormatter('%.0f'))\n",
    "\n",
    "ax.scatter((np.array(T)[1:] + T[:-1]) / 2, np.divide(np.diff(np.array(NCE0)),np.diff(np.array(T))), s=10, c='red', label=r'$h=0$')\n",
    "\n",
    "ax.scatter((np.array(T)[1:] + T[:-1]) / 2, np.divide(np.diff(np.array(NCE2_)),np.diff(np.array(T))), s=10, c='green', label=r'$h=-2$')\n",
    "\n",
    "ax.scatter((np.array(T)[1:] + T[:-1]) / 2, np.divide(np.diff(np.array(NCE15_)),np.diff(np.array(T))), s=10, c='blue', label=r'$h=-15$')\n",
    "\n",
    "ax.set_xlabel('T [a.u.]',fontsize=20)\n",
    "ax.set_ylabel('C [a.u.]',fontsize=20)\n",
    "\n",
    "# save figure\n",
    "fig.savefig('Specific Heat Curve (10-qubit).png',bbox_inches='tight', dpi=600)\n",
    "plt.close()"
   ]
  },
  {
   "cell_type": "code",
   "execution_count": 108,
   "id": "b7dcdd1f",
   "metadata": {},
   "outputs": [],
   "source": [
    "fig, ax = plt.subplots(figsize=(8, 5))\n",
    "\n",
    "ax.yaxis.set_major_locator(ticker.MultipleLocator(1))\n",
    "ax.yaxis.set_major_formatter(ticker.FormatStrFormatter('%.0f'))\n",
    "\n",
    "ax.scatter(T, NCM0, s=10, c='red', label=r'$h=0$')\n",
    "ax.scatter(T, NCM2_, s=10, c='green', label=r'$h=-2$')\n",
    "ax.scatter(T, NCM15_, s=10, c='blue', label=r'$h=-15$')\n",
    "\n",
    "ax.legend(loc='upper right', fontsize=6)\n",
    "\n",
    "ax.set_xlabel('T [a.u.]',fontsize=20)\n",
    "ax.set_ylabel('M [a.u.]',fontsize=20)\n",
    "\n",
    "# save figure\n",
    "fig.savefig('Magnetization Curve (10-qubit).png',bbox_inches='tight', dpi=600)\n",
    "plt.close()"
   ]
  },
  {
   "cell_type": "code",
   "execution_count": 111,
   "id": "6edcee8e",
   "metadata": {},
   "outputs": [],
   "source": [
    "fig, ax = plt.subplots(figsize=(8, 5))\n",
    "\n",
    "ax.scatter(T, NCE0, s=10, c='red', label=r'$h=0$')\n",
    "ax.scatter(T, NCE2_, s=10, c='green', label=r'$h=-2$')\n",
    "ax.scatter(T, NCE15_, s=10, c='blue', label=r'$h=-15$')\n",
    "\n",
    "ax.legend(loc='upper right', fontsize=6)\n",
    "\n",
    "ax.set_xlabel('T [a.u.]',fontsize=20)\n",
    "ax.set_ylabel('E [a.u.]',fontsize=20)\n",
    "\n",
    "# save figure\n",
    "fig.savefig('Energy Curve (10-qubit).png',bbox_inches='tight', dpi=600)\n",
    "plt.close()"
   ]
  }
 ],
 "metadata": {
  "kernelspec": {
   "display_name": "Python 3 (ipykernel)",
   "language": "python",
   "name": "python3"
  },
  "language_info": {
   "codemirror_mode": {
    "name": "ipython",
    "version": 3
   },
   "file_extension": ".py",
   "mimetype": "text/x-python",
   "name": "python",
   "nbconvert_exporter": "python",
   "pygments_lexer": "ipython3",
   "version": "3.9.13"
  }
 },
 "nbformat": 4,
 "nbformat_minor": 5
}
